{
  "nbformat": 4,
  "nbformat_minor": 0,
  "metadata": {
    "accelerator": "GPU",
    "colab": {
      "name": "NLP_Week4_Exercise_Shakespeare_Question.ipynb",
      "provenance": [],
      "toc_visible": true
    },
    "kernelspec": {
      "display_name": "Python 3",
      "name": "python3"
    }
  },
  "cells": [
    {
      "cell_type": "code",
      "metadata": {
        "id": "zX4Kg8DUTKWO"
      },
      "source": [
        "#@title Licensed under the Apache License, Version 2.0 (the \"License\");\n",
        "# you may not use this file except in compliance with the License.\n",
        "# You may obtain a copy of the License at\n",
        "#\n",
        "# https://www.apache.org/licenses/LICENSE-2.0\n",
        "#\n",
        "# Unless required by applicable law or agreed to in writing, software\n",
        "# distributed under the License is distributed on an \"AS IS\" BASIS,\n",
        "# WITHOUT WARRANTIES OR CONDITIONS OF ANY KIND, either express or implied.\n",
        "# See the License for the specific language governing permissions and\n",
        "# limitations under the License."
      ],
      "execution_count": null,
      "outputs": []
    },
    {
      "cell_type": "code",
      "metadata": {
        "id": "BOwsuGQQY9OL"
      },
      "source": [
        "from tensorflow.keras.preprocessing.sequence import pad_sequences\n",
        "from tensorflow.keras.layers import Embedding, LSTM, Dense, Dropout, Bidirectional\n",
        "from tensorflow.keras.preprocessing.text import Tokenizer\n",
        "from tensorflow.keras.models import Sequential\n",
        "from tensorflow.keras.optimizers import Adam\n",
        "### YOUR CODE HERE\n",
        "# Figure out how to import regularizers\n",
        "from tensorflow.keras import regularizers\n",
        "###\n",
        "import tensorflow.keras.utils as ku \n",
        "import numpy as np "
      ],
      "execution_count": 1,
      "outputs": []
    },
    {
      "cell_type": "code",
      "metadata": {
        "id": "PRnDnCW-Z7qv",
        "outputId": "856e0614-ade4-475a-c4b2-04549b4d9c03",
        "colab": {
          "base_uri": "https://localhost:8080/"
        }
      },
      "source": [
        "tokenizer = Tokenizer()\n",
        "!wget --no-check-certificate \\\n",
        "    https://storage.googleapis.com/laurencemoroney-blog.appspot.com/sonnets.txt \\\n",
        "    -O /tmp/sonnets.txt\n",
        "data = open('/tmp/sonnets.txt').read()\n",
        "\n",
        "corpus = data.lower().split(\"\\n\")\n",
        "\n",
        "\n",
        "tokenizer.fit_on_texts(corpus)\n",
        "total_words = len(tokenizer.word_index) + 1\n",
        "\n",
        "# create input sequences using list of tokens\n",
        "input_sequences = []\n",
        "for line in corpus:\n",
        "\ttoken_list = tokenizer.texts_to_sequences([line])[0]\n",
        "\tfor i in range(1, len(token_list)):\n",
        "\t\tn_gram_sequence = token_list[:i+1]\n",
        "\t\tinput_sequences.append(n_gram_sequence)\n",
        "\n",
        "\n",
        "# pad sequences \n",
        "max_sequence_len = max([len(x) for x in input_sequences])\n",
        "input_sequences = np.array(pad_sequences(input_sequences, maxlen=max_sequence_len, padding='pre'))\n",
        "\n",
        "# create predictors and label\n",
        "predictors, label = input_sequences[:,:-1],input_sequences[:,-1]\n",
        "\n",
        "label = ku.to_categorical(label, num_classes=total_words)"
      ],
      "execution_count": 2,
      "outputs": [
        {
          "output_type": "stream",
          "text": [
            "--2020-11-01 22:02:40--  https://storage.googleapis.com/laurencemoroney-blog.appspot.com/sonnets.txt\n",
            "Resolving storage.googleapis.com (storage.googleapis.com)... 172.217.164.176, 172.217.164.144, 172.217.2.112, ...\n",
            "Connecting to storage.googleapis.com (storage.googleapis.com)|172.217.164.176|:443... connected.\n",
            "HTTP request sent, awaiting response... 200 OK\n",
            "Length: 93578 (91K) [text/plain]\n",
            "Saving to: ‘/tmp/sonnets.txt’\n",
            "\n",
            "\r/tmp/sonnets.txt      0%[                    ]       0  --.-KB/s               \r/tmp/sonnets.txt    100%[===================>]  91.38K  --.-KB/s    in 0.001s  \n",
            "\n",
            "2020-11-01 22:02:40 (114 MB/s) - ‘/tmp/sonnets.txt’ saved [93578/93578]\n",
            "\n"
          ],
          "name": "stdout"
        }
      ]
    },
    {
      "cell_type": "code",
      "metadata": {
        "id": "w9vH8Y59ajYL",
        "outputId": "62005431-9224-4cc9-840a-922b95535040",
        "colab": {
          "base_uri": "https://localhost:8080/"
        }
      },
      "source": [
        "model = Sequential()\n",
        "model.add(Embedding(total_words, 100, input_length=max_sequence_len-1)), # Your Embedding Layer\n",
        "model.add(LSTM(150, return_sequences=True)),    # An LSTM Layer\n",
        "model.add(Dropout(0.2)), # A dropout layer\n",
        "model.add(LSTM(120)),    # Another LSTM Layer\n",
        "model.add(Dense(total_words/2, \n",
        "                activation = 'relu', \n",
        "                kernel_regularizer = regularizers.l2(0.01))), # A Dense Layer including regularizers\n",
        "model.add(Dense(total_words, activation='softmax'))           # A Dense Layer\n",
        "\n",
        "# Pick an optimizer\n",
        "model.compile(loss='categorical_crossentropy', \n",
        "              optimizer='adam', \n",
        "              metrics=['accuracy'])  # Pick a loss function and an optimizer)\n",
        "\n",
        "print(model.summary())\n"
      ],
      "execution_count": 5,
      "outputs": [
        {
          "output_type": "stream",
          "text": [
            "Model: \"sequential_2\"\n",
            "_________________________________________________________________\n",
            "Layer (type)                 Output Shape              Param #   \n",
            "=================================================================\n",
            "embedding_2 (Embedding)      (None, 10, 100)           321100    \n",
            "_________________________________________________________________\n",
            "lstm_4 (LSTM)                (None, 10, 150)           150600    \n",
            "_________________________________________________________________\n",
            "dropout_2 (Dropout)          (None, 10, 150)           0         \n",
            "_________________________________________________________________\n",
            "lstm_5 (LSTM)                (None, 120)               130080    \n",
            "_________________________________________________________________\n",
            "dense (Dense)                (None, 1605)              194205    \n",
            "_________________________________________________________________\n",
            "dense_1 (Dense)              (None, 3211)              5156866   \n",
            "=================================================================\n",
            "Total params: 5,952,851\n",
            "Trainable params: 5,952,851\n",
            "Non-trainable params: 0\n",
            "_________________________________________________________________\n",
            "None\n"
          ],
          "name": "stdout"
        }
      ]
    },
    {
      "cell_type": "code",
      "metadata": {
        "id": "AIg2f1HBxqof",
        "outputId": "9f68c9b6-2180-4204-989a-475d0141ec72",
        "colab": {
          "base_uri": "https://localhost:8080/"
        }
      },
      "source": [
        " history = model.fit(predictors, label, epochs=100, verbose=1)"
      ],
      "execution_count": 6,
      "outputs": [
        {
          "output_type": "stream",
          "text": [
            "Epoch 1/100\n",
            "484/484 [==============================] - 5s 10ms/step - loss: 6.9483 - accuracy: 0.0212\n",
            "Epoch 2/100\n",
            "484/484 [==============================] - 5s 10ms/step - loss: 6.5137 - accuracy: 0.0203\n",
            "Epoch 3/100\n",
            "484/484 [==============================] - 5s 9ms/step - loss: 6.4179 - accuracy: 0.0225\n",
            "Epoch 4/100\n",
            "484/484 [==============================] - 5s 9ms/step - loss: 6.3453 - accuracy: 0.0246\n",
            "Epoch 5/100\n",
            "484/484 [==============================] - 5s 9ms/step - loss: 6.2423 - accuracy: 0.0318\n",
            "Epoch 6/100\n",
            "484/484 [==============================] - 5s 9ms/step - loss: 6.1366 - accuracy: 0.0374\n",
            "Epoch 7/100\n",
            "484/484 [==============================] - 5s 10ms/step - loss: 6.0438 - accuracy: 0.0394\n",
            "Epoch 8/100\n",
            "484/484 [==============================] - 5s 9ms/step - loss: 5.9601 - accuracy: 0.0399\n",
            "Epoch 9/100\n",
            "484/484 [==============================] - 5s 9ms/step - loss: 5.8822 - accuracy: 0.0432\n",
            "Epoch 10/100\n",
            "484/484 [==============================] - 5s 10ms/step - loss: 5.8095 - accuracy: 0.0481\n",
            "Epoch 11/100\n",
            "484/484 [==============================] - 5s 10ms/step - loss: 5.7321 - accuracy: 0.0527\n",
            "Epoch 12/100\n",
            "484/484 [==============================] - 5s 10ms/step - loss: 5.6551 - accuracy: 0.0556\n",
            "Epoch 13/100\n",
            "484/484 [==============================] - 5s 10ms/step - loss: 5.5744 - accuracy: 0.0585\n",
            "Epoch 14/100\n",
            "484/484 [==============================] - 5s 9ms/step - loss: 5.4935 - accuracy: 0.0669\n",
            "Epoch 15/100\n",
            "484/484 [==============================] - 5s 9ms/step - loss: 5.4120 - accuracy: 0.0719\n",
            "Epoch 16/100\n",
            "484/484 [==============================] - 5s 9ms/step - loss: 5.3182 - accuracy: 0.0787\n",
            "Epoch 17/100\n",
            "484/484 [==============================] - 5s 9ms/step - loss: 5.2250 - accuracy: 0.0828\n",
            "Epoch 18/100\n",
            "484/484 [==============================] - 5s 9ms/step - loss: 5.1359 - accuracy: 0.0929\n",
            "Epoch 19/100\n",
            "484/484 [==============================] - 5s 9ms/step - loss: 5.0478 - accuracy: 0.0998\n",
            "Epoch 20/100\n",
            "484/484 [==============================] - 4s 9ms/step - loss: 4.9562 - accuracy: 0.1044\n",
            "Epoch 21/100\n",
            "484/484 [==============================] - 4s 9ms/step - loss: 4.8699 - accuracy: 0.1139\n",
            "Epoch 22/100\n",
            "484/484 [==============================] - 5s 9ms/step - loss: 4.7865 - accuracy: 0.1220\n",
            "Epoch 23/100\n",
            "484/484 [==============================] - 5s 9ms/step - loss: 4.6950 - accuracy: 0.1325\n",
            "Epoch 24/100\n",
            "484/484 [==============================] - 4s 9ms/step - loss: 4.6124 - accuracy: 0.1418\n",
            "Epoch 25/100\n",
            "484/484 [==============================] - 5s 9ms/step - loss: 4.5230 - accuracy: 0.1459\n",
            "Epoch 26/100\n",
            "484/484 [==============================] - 5s 9ms/step - loss: 4.4342 - accuracy: 0.1562\n",
            "Epoch 27/100\n",
            "484/484 [==============================] - 4s 9ms/step - loss: 4.3468 - accuracy: 0.1632\n",
            "Epoch 28/100\n",
            "484/484 [==============================] - 5s 9ms/step - loss: 4.2660 - accuracy: 0.1734\n",
            "Epoch 29/100\n",
            "484/484 [==============================] - 4s 9ms/step - loss: 4.1789 - accuracy: 0.1837\n",
            "Epoch 30/100\n",
            "484/484 [==============================] - 5s 9ms/step - loss: 4.0980 - accuracy: 0.1914\n",
            "Epoch 31/100\n",
            "484/484 [==============================] - 4s 9ms/step - loss: 4.0092 - accuracy: 0.2007\n",
            "Epoch 32/100\n",
            "484/484 [==============================] - 5s 9ms/step - loss: 3.9321 - accuracy: 0.2158\n",
            "Epoch 33/100\n",
            "484/484 [==============================] - 4s 9ms/step - loss: 3.8557 - accuracy: 0.2265\n",
            "Epoch 34/100\n",
            "484/484 [==============================] - 5s 9ms/step - loss: 3.7715 - accuracy: 0.2387\n",
            "Epoch 35/100\n",
            "484/484 [==============================] - 5s 9ms/step - loss: 3.6987 - accuracy: 0.2533\n",
            "Epoch 36/100\n",
            "484/484 [==============================] - 5s 9ms/step - loss: 3.6269 - accuracy: 0.2663\n",
            "Epoch 37/100\n",
            "484/484 [==============================] - 5s 10ms/step - loss: 3.5545 - accuracy: 0.2815\n",
            "Epoch 38/100\n",
            "484/484 [==============================] - 5s 9ms/step - loss: 3.4766 - accuracy: 0.2935\n",
            "Epoch 39/100\n",
            "484/484 [==============================] - 5s 9ms/step - loss: 3.4095 - accuracy: 0.3117\n",
            "Epoch 40/100\n",
            "484/484 [==============================] - 5s 9ms/step - loss: 3.3478 - accuracy: 0.3221\n",
            "Epoch 41/100\n",
            "484/484 [==============================] - 5s 9ms/step - loss: 3.2813 - accuracy: 0.3399\n",
            "Epoch 42/100\n",
            "484/484 [==============================] - 5s 9ms/step - loss: 3.2066 - accuracy: 0.3553\n",
            "Epoch 43/100\n",
            "484/484 [==============================] - 5s 9ms/step - loss: 3.1490 - accuracy: 0.3703\n",
            "Epoch 44/100\n",
            "484/484 [==============================] - 5s 9ms/step - loss: 3.0922 - accuracy: 0.3860\n",
            "Epoch 45/100\n",
            "484/484 [==============================] - 5s 9ms/step - loss: 3.0346 - accuracy: 0.3936\n",
            "Epoch 46/100\n",
            "484/484 [==============================] - 4s 9ms/step - loss: 2.9832 - accuracy: 0.4066\n",
            "Epoch 47/100\n",
            "484/484 [==============================] - 4s 9ms/step - loss: 2.9328 - accuracy: 0.4194\n",
            "Epoch 48/100\n",
            "484/484 [==============================] - 5s 9ms/step - loss: 2.8732 - accuracy: 0.4281\n",
            "Epoch 49/100\n",
            "484/484 [==============================] - 4s 9ms/step - loss: 2.8163 - accuracy: 0.4422\n",
            "Epoch 50/100\n",
            "484/484 [==============================] - 5s 10ms/step - loss: 2.7680 - accuracy: 0.4532\n",
            "Epoch 51/100\n",
            "484/484 [==============================] - 5s 9ms/step - loss: 2.7236 - accuracy: 0.4585\n",
            "Epoch 52/100\n",
            "484/484 [==============================] - 5s 9ms/step - loss: 2.6671 - accuracy: 0.4781\n",
            "Epoch 53/100\n",
            "484/484 [==============================] - 5s 10ms/step - loss: 2.6255 - accuracy: 0.4904\n",
            "Epoch 54/100\n",
            "484/484 [==============================] - 5s 9ms/step - loss: 2.5800 - accuracy: 0.4957\n",
            "Epoch 55/100\n",
            "484/484 [==============================] - 5s 9ms/step - loss: 2.5218 - accuracy: 0.5144\n",
            "Epoch 56/100\n",
            "484/484 [==============================] - 5s 9ms/step - loss: 2.4791 - accuracy: 0.5226\n",
            "Epoch 57/100\n",
            "484/484 [==============================] - 5s 9ms/step - loss: 2.4470 - accuracy: 0.5283\n",
            "Epoch 58/100\n",
            "484/484 [==============================] - 4s 9ms/step - loss: 2.4029 - accuracy: 0.5370\n",
            "Epoch 59/100\n",
            "484/484 [==============================] - 5s 10ms/step - loss: 2.3697 - accuracy: 0.5467\n",
            "Epoch 60/100\n",
            "484/484 [==============================] - 4s 9ms/step - loss: 2.3253 - accuracy: 0.5578\n",
            "Epoch 61/100\n",
            "484/484 [==============================] - 5s 9ms/step - loss: 2.2881 - accuracy: 0.5609\n",
            "Epoch 62/100\n",
            "484/484 [==============================] - 5s 10ms/step - loss: 2.2553 - accuracy: 0.5748\n",
            "Epoch 63/100\n",
            "484/484 [==============================] - 4s 9ms/step - loss: 2.2087 - accuracy: 0.5843\n",
            "Epoch 64/100\n",
            "484/484 [==============================] - 5s 10ms/step - loss: 2.1816 - accuracy: 0.5893\n",
            "Epoch 65/100\n",
            "484/484 [==============================] - 5s 10ms/step - loss: 2.1438 - accuracy: 0.5990\n",
            "Epoch 66/100\n",
            "484/484 [==============================] - 5s 9ms/step - loss: 2.1093 - accuracy: 0.6108\n",
            "Epoch 67/100\n",
            "484/484 [==============================] - 5s 10ms/step - loss: 2.0818 - accuracy: 0.6138\n",
            "Epoch 68/100\n",
            "484/484 [==============================] - 5s 9ms/step - loss: 2.0419 - accuracy: 0.6266\n",
            "Epoch 69/100\n",
            "484/484 [==============================] - 5s 10ms/step - loss: 2.0141 - accuracy: 0.6282\n",
            "Epoch 70/100\n",
            "484/484 [==============================] - 5s 10ms/step - loss: 2.0012 - accuracy: 0.6334\n",
            "Epoch 71/100\n",
            "484/484 [==============================] - 4s 9ms/step - loss: 1.9695 - accuracy: 0.6387\n",
            "Epoch 72/100\n",
            "484/484 [==============================] - 4s 9ms/step - loss: 1.9275 - accuracy: 0.6499\n",
            "Epoch 73/100\n",
            "484/484 [==============================] - 5s 9ms/step - loss: 1.9147 - accuracy: 0.6526\n",
            "Epoch 74/100\n",
            "484/484 [==============================] - 5s 9ms/step - loss: 1.8714 - accuracy: 0.6581\n",
            "Epoch 75/100\n",
            "484/484 [==============================] - 5s 10ms/step - loss: 1.8574 - accuracy: 0.6626\n",
            "Epoch 76/100\n",
            "484/484 [==============================] - 5s 10ms/step - loss: 1.8394 - accuracy: 0.6658\n",
            "Epoch 77/100\n",
            "484/484 [==============================] - 5s 9ms/step - loss: 1.8110 - accuracy: 0.6791\n",
            "Epoch 78/100\n",
            "484/484 [==============================] - 5s 10ms/step - loss: 1.7812 - accuracy: 0.6806\n",
            "Epoch 79/100\n",
            "484/484 [==============================] - 5s 10ms/step - loss: 1.7552 - accuracy: 0.6861\n",
            "Epoch 80/100\n",
            "484/484 [==============================] - 5s 11ms/step - loss: 1.7395 - accuracy: 0.6909\n",
            "Epoch 81/100\n",
            "484/484 [==============================] - 5s 10ms/step - loss: 1.7147 - accuracy: 0.6947\n",
            "Epoch 82/100\n",
            "484/484 [==============================] - 5s 9ms/step - loss: 1.6991 - accuracy: 0.6996\n",
            "Epoch 83/100\n",
            "484/484 [==============================] - 4s 9ms/step - loss: 1.6790 - accuracy: 0.7011\n",
            "Epoch 84/100\n",
            "484/484 [==============================] - 5s 9ms/step - loss: 1.6542 - accuracy: 0.7081\n",
            "Epoch 85/100\n",
            "484/484 [==============================] - 5s 9ms/step - loss: 1.6428 - accuracy: 0.7123\n",
            "Epoch 86/100\n",
            "484/484 [==============================] - 5s 10ms/step - loss: 1.6268 - accuracy: 0.7129\n",
            "Epoch 87/100\n",
            "484/484 [==============================] - 5s 10ms/step - loss: 1.6158 - accuracy: 0.7134\n",
            "Epoch 88/100\n",
            "484/484 [==============================] - 5s 10ms/step - loss: 1.5814 - accuracy: 0.7221\n",
            "Epoch 89/100\n",
            "484/484 [==============================] - 5s 10ms/step - loss: 1.5710 - accuracy: 0.7249\n",
            "Epoch 90/100\n",
            "484/484 [==============================] - 5s 10ms/step - loss: 1.5437 - accuracy: 0.7315\n",
            "Epoch 91/100\n",
            "484/484 [==============================] - 5s 10ms/step - loss: 1.5335 - accuracy: 0.7325\n",
            "Epoch 92/100\n",
            "484/484 [==============================] - 5s 10ms/step - loss: 1.5238 - accuracy: 0.7349\n",
            "Epoch 93/100\n",
            "484/484 [==============================] - 4s 9ms/step - loss: 1.5058 - accuracy: 0.7359\n",
            "Epoch 94/100\n",
            "484/484 [==============================] - 5s 9ms/step - loss: 1.4970 - accuracy: 0.7382\n",
            "Epoch 95/100\n",
            "484/484 [==============================] - 5s 10ms/step - loss: 1.4830 - accuracy: 0.7396\n",
            "Epoch 96/100\n",
            "484/484 [==============================] - 4s 9ms/step - loss: 1.4559 - accuracy: 0.7498\n",
            "Epoch 97/100\n",
            "484/484 [==============================] - 5s 9ms/step - loss: 1.4321 - accuracy: 0.7551\n",
            "Epoch 98/100\n",
            "484/484 [==============================] - 5s 10ms/step - loss: 1.4325 - accuracy: 0.7515\n",
            "Epoch 99/100\n",
            "484/484 [==============================] - 5s 9ms/step - loss: 1.4178 - accuracy: 0.7533\n",
            "Epoch 100/100\n",
            "484/484 [==============================] - 5s 10ms/step - loss: 1.3982 - accuracy: 0.7589\n"
          ],
          "name": "stdout"
        }
      ]
    },
    {
      "cell_type": "code",
      "metadata": {
        "id": "1fXTEO3GJ282",
        "outputId": "dcb248e0-5ce4-4cca-e9d0-412d86d55ed9",
        "colab": {
          "base_uri": "https://localhost:8080/",
          "height": 545
        }
      },
      "source": [
        "import matplotlib.pyplot as plt\n",
        "acc = history.history['accuracy']\n",
        "loss = history.history['loss']\n",
        "\n",
        "epochs = range(len(acc))\n",
        "\n",
        "plt.plot(epochs, acc, 'b', label='Training accuracy')\n",
        "plt.title('Training accuracy')\n",
        "\n",
        "plt.figure()\n",
        "\n",
        "plt.plot(epochs, loss, 'b', label='Training Loss')\n",
        "plt.title('Training loss')\n",
        "plt.legend()\n",
        "\n",
        "plt.show()"
      ],
      "execution_count": 7,
      "outputs": [
        {
          "output_type": "display_data",
          "data": {
            "image/png": "[encoded data removed]",
            "text/plain": [
              "<Figure size 432x288 with 1 Axes>"
            ]
          },
          "metadata": {
            "tags": [],
            "needs_background": "light"
          }
        },
        {
          "output_type": "display_data",
          "data": {
            "image/png": "[encoded data removed]",
            "text/plain": [
              "<Figure size 432x288 with 1 Axes>"
            ]
          },
          "metadata": {
            "tags": [],
            "needs_background": "light"
          }
        }
      ]
    },
    {
      "cell_type": "code",
      "metadata": {
        "id": "6Vc6PHgxa6Hm",
        "outputId": "53f18ce3-85d3-48fc-85ed-54f6dcf65af4",
        "colab": {
          "base_uri": "https://localhost:8080/"
        }
      },
      "source": [
        "seed_text = \"Help me Obi Wan Kenobi, you're my only hope\"\n",
        "next_words = 100\n",
        "  \n",
        "for _ in range(next_words):\n",
        "\ttoken_list = tokenizer.texts_to_sequences([seed_text])[0]\n",
        "\ttoken_list = pad_sequences([token_list], maxlen=max_sequence_len-1, padding='pre')\n",
        "\tpredicted = model.predict_classes(token_list, verbose=0)\n",
        "\toutput_word = \"\"\n",
        "\tfor word, index in tokenizer.word_index.items():\n",
        "\t\tif index == predicted:\n",
        "\t\t\toutput_word = word\n",
        "\t\t\tbreak\n",
        "\tseed_text += \" \" + output_word\n",
        "print(seed_text)"
      ],
      "execution_count": 8,
      "outputs": [
        {
          "output_type": "stream",
          "text": [
            "WARNING:tensorflow:From <ipython-input-8-622d307fa19a>:7: Sequential.predict_classes (from tensorflow.python.keras.engine.sequential) is deprecated and will be removed after 2021-01-01.\n",
            "Instructions for updating:\n",
            "Please use instead:* `np.argmax(model.predict(x), axis=-1)`,   if your model does multi-class classification   (e.g. if it uses a `softmax` last-layer activation).* `(model.predict(x) > 0.5).astype(\"int32\")`,   if your model does binary classification   (e.g. if it uses a `sigmoid` last-layer activation).\n",
            "Help me Obi Wan Kenobi, you're my only hope and true control their heart ' ' set set me dead faith kind weeds dyed glory hate 'no ' ' ' set them her young weeds pain hid weeds weeds end age hate doom ' date nought light staineth staineth rare dead torn weeds pain bearing brain date date dear brow brow doom ' light behind care in afloat about spies burn'd sad sad hits slow staineth dear rest defeat moan a doom of sun new debt light leaves sad hits painted heir fall moan ' part of dear dear part hate bright had afloat date date date date of\n"
          ],
          "name": "stdout"
        }
      ]
    },
    {
      "cell_type": "code",
      "metadata": {
        "id": "N2b3oGpJ-OPK"
      },
      "source": [
        ""
      ],
      "execution_count": null,
      "outputs": []
    }
  ]
}
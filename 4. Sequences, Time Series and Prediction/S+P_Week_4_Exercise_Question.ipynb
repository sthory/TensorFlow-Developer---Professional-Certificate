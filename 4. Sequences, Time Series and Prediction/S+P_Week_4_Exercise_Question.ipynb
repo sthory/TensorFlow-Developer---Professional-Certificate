{
  "nbformat": 4,
  "nbformat_minor": 0,
  "metadata": {
    "accelerator": "GPU",
    "colab": {
      "name": "S+P Week 4 Exercise Question.ipynb",
      "provenance": [],
      "collapsed_sections": [],
      "toc_visible": true
    },
    "kernelspec": {
      "display_name": "Python 3",
      "name": "python3"
    }
  },
  "cells": [
    {
      "cell_type": "code",
      "metadata": {
        "id": "zX4Kg8DUTKWO"
      },
      "source": [
        "#@title Licensed under the Apache License, Version 2.0 (the \"License\");\n",
        "# you may not use this file except in compliance with the License.\n",
        "# You may obtain a copy of the License at\n",
        "#\n",
        "# https://www.apache.org/licenses/LICENSE-2.0\n",
        "#\n",
        "# Unless required by applicable law or agreed to in writing, software\n",
        "# distributed under the License is distributed on an \"AS IS\" BASIS,\n",
        "# WITHOUT WARRANTIES OR CONDITIONS OF ANY KIND, either express or implied.\n",
        "# See the License for the specific language governing permissions and\n",
        "# limitations under the License."
      ],
      "execution_count": null,
      "outputs": []
    },
    {
      "cell_type": "code",
      "metadata": {
        "id": "56XEQOGknrAk",
        "outputId": "0e72c2f7-3c27-4f44-bd6d-0c31ea4ea02d",
        "colab": {
          "base_uri": "https://localhost:8080/"
        }
      },
      "source": [
        "import tensorflow as tf\n",
        "print(tf.__version__)"
      ],
      "execution_count": 1,
      "outputs": [
        {
          "output_type": "stream",
          "text": [
            "2.3.0\n"
          ],
          "name": "stdout"
        }
      ]
    },
    {
      "cell_type": "code",
      "metadata": {
        "id": "sLl52leVp5wU"
      },
      "source": [
        "import numpy as np\n",
        "import matplotlib.pyplot as plt\n",
        "def plot_series(time, series, format=\"-\", start=0, end=None):\n",
        "    plt.plot(time[start:end], series[start:end], format)\n",
        "    plt.xlabel(\"Time\")\n",
        "    plt.ylabel(\"Value\")\n",
        "    plt.grid(True)"
      ],
      "execution_count": 2,
      "outputs": []
    },
    {
      "cell_type": "code",
      "metadata": {
        "id": "tP7oqUdkk0gY",
        "outputId": "e113c587-2d00-4a3e-af88-eb9f5462fa40",
        "colab": {
          "base_uri": "https://localhost:8080/"
        }
      },
      "source": [
        "!wget --no-check-certificate \\\n",
        "    https://raw.githubusercontent.com/jbrownlee/Datasets/master/daily-min-temperatures.csv \\\n",
        "    -O /tmp/daily-min-temperatures.csv"
      ],
      "execution_count": 3,
      "outputs": [
        {
          "output_type": "stream",
          "text": [
            "--2020-11-16 03:21:41--  https://raw.githubusercontent.com/jbrownlee/Datasets/master/daily-min-temperatures.csv\n",
            "Resolving raw.githubusercontent.com (raw.githubusercontent.com)... 151.101.0.133, 151.101.64.133, 151.101.128.133, ...\n",
            "Connecting to raw.githubusercontent.com (raw.githubusercontent.com)|151.101.0.133|:443... connected.\n",
            "HTTP request sent, awaiting response... 200 OK\n",
            "Length: 67921 (66K) [text/plain]\n",
            "Saving to: ‘/tmp/daily-min-temperatures.csv’\n",
            "\n",
            "/tmp/daily-min-temp 100%[===================>]  66.33K  --.-KB/s    in 0.002s  \n",
            "\n",
            "2020-11-16 03:21:41 (38.4 MB/s) - ‘/tmp/daily-min-temperatures.csv’ saved [67921/67921]\n",
            "\n"
          ],
          "name": "stdout"
        }
      ]
    },
    {
      "cell_type": "code",
      "metadata": {
        "id": "X30JjJliFFnK"
      },
      "source": [
        "import pandas as pd\n",
        "df = pd.read_csv('/tmp/daily-min-temperatures.csv')"
      ],
      "execution_count": 4,
      "outputs": []
    },
    {
      "cell_type": "code",
      "metadata": {
        "id": "uw6fFIJZFP5W",
        "outputId": "e46ba224-dc0f-4d8f-ba9c-04767c4d3f13",
        "colab": {
          "base_uri": "https://localhost:8080/",
          "height": 202
        }
      },
      "source": [
        "df.head()"
      ],
      "execution_count": 8,
      "outputs": [
        {
          "output_type": "execute_result",
          "data": {
            "text/html": [
              "<div>\n",
              "<style scoped>\n",
              "    .dataframe tbody tr th:only-of-type {\n",
              "        vertical-align: middle;\n",
              "    }\n",
              "\n",
              "    .dataframe tbody tr th {\n",
              "        vertical-align: top;\n",
              "    }\n",
              "\n",
              "    .dataframe thead th {\n",
              "        text-align: right;\n",
              "    }\n",
              "</style>\n",
              "<table border=\"1\" class=\"dataframe\">\n",
              "  <thead>\n",
              "    <tr style=\"text-align: right;\">\n",
              "      <th></th>\n",
              "      <th>Date</th>\n",
              "      <th>Temp</th>\n",
              "    </tr>\n",
              "  </thead>\n",
              "  <tbody>\n",
              "    <tr>\n",
              "      <th>0</th>\n",
              "      <td>1981-01-01</td>\n",
              "      <td>20.7</td>\n",
              "    </tr>\n",
              "    <tr>\n",
              "      <th>1</th>\n",
              "      <td>1981-01-02</td>\n",
              "      <td>17.9</td>\n",
              "    </tr>\n",
              "    <tr>\n",
              "      <th>2</th>\n",
              "      <td>1981-01-03</td>\n",
              "      <td>18.8</td>\n",
              "    </tr>\n",
              "    <tr>\n",
              "      <th>3</th>\n",
              "      <td>1981-01-04</td>\n",
              "      <td>14.6</td>\n",
              "    </tr>\n",
              "    <tr>\n",
              "      <th>4</th>\n",
              "      <td>1981-01-05</td>\n",
              "      <td>15.8</td>\n",
              "    </tr>\n",
              "  </tbody>\n",
              "</table>\n",
              "</div>"
            ],
            "text/plain": [
              "         Date  Temp\n",
              "0  1981-01-01  20.7\n",
              "1  1981-01-02  17.9\n",
              "2  1981-01-03  18.8\n",
              "3  1981-01-04  14.6\n",
              "4  1981-01-05  15.8"
            ]
          },
          "metadata": {
            "tags": []
          },
          "execution_count": 8
        }
      ]
    },
    {
      "cell_type": "code",
      "metadata": {
        "id": "NcG9r1eClbTh",
        "outputId": "26ca55e4-d6fa-43c2-dd19-96fac5ba89dc",
        "colab": {
          "base_uri": "https://localhost:8080/",
          "height": 388
        }
      },
      "source": [
        "import csv\n",
        "time_step = []\n",
        "temps = []\n",
        "\n",
        "with open('/tmp/daily-min-temperatures.csv') as csvfile:\n",
        "# YOUR CODE HERE. READ TEMPERATURES INTO TEMPS\n",
        "# HAVE TIME STEPS BE A SIMPLE ARRAY OF 1, 2, 3, 4 etc\n",
        "  reader = csv.reader(csvfile, delimiter=',')\n",
        "  next(reader)\n",
        "  step = 0\n",
        "  for row in reader:\n",
        "    temps.append(float(row[1]))\n",
        "    time_step.append(step)\n",
        "    step += 1\n",
        "\n",
        "\n",
        "series = np.array(temps)\n",
        "time = np.array(time_step)\n",
        "plt.figure(figsize=(10, 6))\n",
        "plot_series(time, series)"
      ],
      "execution_count": 10,
      "outputs": [
        {
          "output_type": "display_data",
          "data": {
            "image/png": "[encoded data removed]",
            "text/plain": [
              "<Figure size 720x432 with 1 Axes>"
            ]
          },
          "metadata": {
            "tags": [],
            "needs_background": "light"
          }
        }
      ]
    },
    {
      "cell_type": "code",
      "metadata": {
        "id": "L92YRw_IpCFG"
      },
      "source": [
        "split_time = 2500\n",
        "time_train = time[:split_time] # YOUR CODE HERE\n",
        "x_train = series[:split_time] # YOUR CODE HERE\n",
        "time_valid = time[split_time:] # YOUR CODE HERE\n",
        "x_valid = series[split_time:] # YOUR CODE HERE\n",
        "\n",
        "window_size = 30\n",
        "batch_size = 32\n",
        "shuffle_buffer_size = 1000\n"
      ],
      "execution_count": 11,
      "outputs": []
    },
    {
      "cell_type": "code",
      "metadata": {
        "id": "lJwUUZscnG38"
      },
      "source": [
        "def windowed_dataset(series, window_size, batch_size, shuffle_buffer):\n",
        "    # YOUR CODE HERE\n",
        "    series = tf.expand_dims(series, axis=-1)\n",
        "    ds = tf.data.Dataset.from_tensor_slices(series)\n",
        "    ds = ds.window(window_size + 1, shift=1, drop_remainder=True)\n",
        "    ds = ds.flat_map(lambda w: w.batch(window_size + 1))\n",
        "    ds = ds.shuffle(shuffle_buffer)\n",
        "    ds = ds.map(lambda w: (w[:-1], w[1:]))\n",
        "    return ds.batch(batch_size).prefetch(1)"
      ],
      "execution_count": 12,
      "outputs": []
    },
    {
      "cell_type": "code",
      "metadata": {
        "id": "4XwGrf-A_wF0"
      },
      "source": [
        "def model_forecast(model, series, window_size):\n",
        "    # YOUR CODE HERE\n",
        "    ds = tf.data.Dataset.from_tensor_slices(series)\n",
        "    ds = ds.window(window_size, shift=1, drop_remainder=True)\n",
        "    ds = ds.flat_map(lambda w: w.batch(window_size))\n",
        "    ds = ds.batch(32).prefetch(1)\n",
        "    forecast = model.predict(ds)\n",
        "    return forecast"
      ],
      "execution_count": 13,
      "outputs": []
    },
    {
      "cell_type": "code",
      "metadata": {
        "id": "AclfYY3Mn6Ph",
        "outputId": "46c8952e-df8c-4290-c1a1-728426ecfb14",
        "colab": {
          "base_uri": "https://localhost:8080/"
        }
      },
      "source": [
        "tf.keras.backend.clear_session()\n",
        "tf.random.set_seed(51)\n",
        "np.random.seed(51)\n",
        "window_size = 64\n",
        "batch_size = 256\n",
        "train_set = windowed_dataset(x_train, window_size, batch_size, shuffle_buffer_size)\n",
        "print(train_set)\n",
        "print(x_train.shape)\n",
        "\n",
        "model = tf.keras.models.Sequential([\n",
        "# YOUR CODE HERE\n",
        "  tf.keras.layers.Conv1D(filters=32, kernel_size=5,\n",
        "                         strides=1, padding=\"causal\",\n",
        "                         activation=\"relu\",\n",
        "                         input_shape=[None, 1]),\n",
        "  tf.keras.layers.LSTM(64, return_sequences=True),\n",
        "  tf.keras.layers.LSTM(64, return_sequences=True),\n",
        "  tf.keras.layers.Dense(30, activation=\"relu\"),\n",
        "  tf.keras.layers.Dense(10, activation=\"relu\"),\n",
        "  tf.keras.layers.Dense(1),\n",
        "  tf.keras.layers.Lambda(lambda x: x * 400)\n",
        "])\n",
        "\n",
        "lr_schedule = tf.keras.callbacks.LearningRateScheduler(\n",
        "    lambda epoch: 1e-8 * 10**(epoch / 20))\n",
        "optimizer = tf.keras.optimizers.SGD(lr=1e-8, momentum=0.9)\n",
        "model.compile(loss=tf.keras.losses.Huber(),\n",
        "              optimizer=optimizer,\n",
        "              metrics=[\"mae\"])\n",
        "history = model.fit(train_set, epochs=100, callbacks=[lr_schedule])\n"
      ],
      "execution_count": 14,
      "outputs": [
        {
          "output_type": "stream",
          "text": [
            "<PrefetchDataset shapes: ((None, None, 1), (None, None, 1)), types: (tf.float64, tf.float64)>\n",
            "(2500,)\n",
            "Epoch 1/100\n",
            "10/10 [==============================] - 0s 28ms/step - loss: 31.1571 - mae: 31.6550\n",
            "Epoch 2/100\n",
            "10/10 [==============================] - 0s 24ms/step - loss: 30.5778 - mae: 31.0756\n",
            "Epoch 3/100\n",
            "10/10 [==============================] - 0s 26ms/step - loss: 29.6825 - mae: 30.1801\n",
            "Epoch 4/100\n",
            "10/10 [==============================] - 0s 26ms/step - loss: 28.5613 - mae: 29.0586\n",
            "Epoch 5/100\n",
            "10/10 [==============================] - 0s 24ms/step - loss: 27.1974 - mae: 27.6945\n",
            "Epoch 6/100\n",
            "10/10 [==============================] - 0s 24ms/step - loss: 25.5017 - mae: 25.9986\n",
            "Epoch 7/100\n",
            "10/10 [==============================] - 0s 25ms/step - loss: 23.3464 - mae: 23.8429\n",
            "Epoch 8/100\n",
            "10/10 [==============================] - 0s 25ms/step - loss: 20.6148 - mae: 21.1108\n",
            "Epoch 9/100\n",
            "10/10 [==============================] - 0s 26ms/step - loss: 17.3142 - mae: 17.8091\n",
            "Epoch 10/100\n",
            "10/10 [==============================] - 0s 27ms/step - loss: 13.6449 - mae: 14.1371\n",
            "Epoch 11/100\n",
            "10/10 [==============================] - 0s 25ms/step - loss: 10.1273 - mae: 10.6152\n",
            "Epoch 12/100\n",
            "10/10 [==============================] - 0s 26ms/step - loss: 7.6175 - mae: 8.1025\n",
            "Epoch 13/100\n",
            "10/10 [==============================] - 0s 28ms/step - loss: 6.2869 - mae: 6.7711\n",
            "Epoch 14/100\n",
            "10/10 [==============================] - 0s 25ms/step - loss: 5.7015 - mae: 6.1856\n",
            "Epoch 15/100\n",
            "10/10 [==============================] - 0s 27ms/step - loss: 5.3344 - mae: 5.8166\n",
            "Epoch 16/100\n",
            "10/10 [==============================] - 0s 25ms/step - loss: 4.9409 - mae: 5.4206\n",
            "Epoch 17/100\n",
            "10/10 [==============================] - 0s 25ms/step - loss: 4.5578 - mae: 5.0338\n",
            "Epoch 18/100\n",
            "10/10 [==============================] - 0s 24ms/step - loss: 4.2340 - mae: 4.7085\n",
            "Epoch 19/100\n",
            "10/10 [==============================] - 0s 26ms/step - loss: 3.9611 - mae: 4.4360\n",
            "Epoch 20/100\n",
            "10/10 [==============================] - 0s 27ms/step - loss: 3.7448 - mae: 4.2177\n",
            "Epoch 21/100\n",
            "10/10 [==============================] - 0s 26ms/step - loss: 3.5855 - mae: 4.0566\n",
            "Epoch 22/100\n",
            "10/10 [==============================] - 0s 26ms/step - loss: 3.4641 - mae: 3.9344\n",
            "Epoch 23/100\n",
            "10/10 [==============================] - 0s 24ms/step - loss: 3.3711 - mae: 3.8414\n",
            "Epoch 24/100\n",
            "10/10 [==============================] - 0s 25ms/step - loss: 3.2948 - mae: 3.7645\n",
            "Epoch 25/100\n",
            "10/10 [==============================] - 0s 25ms/step - loss: 3.2288 - mae: 3.6978\n",
            "Epoch 26/100\n",
            "10/10 [==============================] - 0s 25ms/step - loss: 3.1662 - mae: 3.6346\n",
            "Epoch 27/100\n",
            "10/10 [==============================] - 0s 29ms/step - loss: 3.1014 - mae: 3.5693\n",
            "Epoch 28/100\n",
            "10/10 [==============================] - 0s 27ms/step - loss: 3.0380 - mae: 3.5053\n",
            "Epoch 29/100\n",
            "10/10 [==============================] - 0s 28ms/step - loss: 2.9716 - mae: 3.4379\n",
            "Epoch 30/100\n",
            "10/10 [==============================] - 0s 26ms/step - loss: 2.9063 - mae: 3.3712\n",
            "Epoch 31/100\n",
            "10/10 [==============================] - 0s 25ms/step - loss: 2.8452 - mae: 3.3098\n",
            "Epoch 32/100\n",
            "10/10 [==============================] - 0s 27ms/step - loss: 2.7842 - mae: 3.2479\n",
            "Epoch 33/100\n",
            "10/10 [==============================] - 0s 25ms/step - loss: 2.7256 - mae: 3.1891\n",
            "Epoch 34/100\n",
            "10/10 [==============================] - 0s 27ms/step - loss: 2.6740 - mae: 3.1379\n",
            "Epoch 35/100\n",
            "10/10 [==============================] - 0s 27ms/step - loss: 2.6212 - mae: 3.0848\n",
            "Epoch 36/100\n",
            "10/10 [==============================] - 0s 27ms/step - loss: 2.5728 - mae: 3.0357\n",
            "Epoch 37/100\n",
            "10/10 [==============================] - 0s 26ms/step - loss: 2.5254 - mae: 2.9877\n",
            "Epoch 38/100\n",
            "10/10 [==============================] - 0s 25ms/step - loss: 2.4800 - mae: 2.9415\n",
            "Epoch 39/100\n",
            "10/10 [==============================] - 0s 27ms/step - loss: 2.4355 - mae: 2.8968\n",
            "Epoch 40/100\n",
            "10/10 [==============================] - 0s 26ms/step - loss: 2.3933 - mae: 2.8541\n",
            "Epoch 41/100\n",
            "10/10 [==============================] - 0s 27ms/step - loss: 2.3523 - mae: 2.8124\n",
            "Epoch 42/100\n",
            "10/10 [==============================] - 0s 27ms/step - loss: 2.3124 - mae: 2.7718\n",
            "Epoch 43/100\n",
            "10/10 [==============================] - 0s 24ms/step - loss: 2.2730 - mae: 2.7315\n",
            "Epoch 44/100\n",
            "10/10 [==============================] - 0s 25ms/step - loss: 2.2338 - mae: 2.6913\n",
            "Epoch 45/100\n",
            "10/10 [==============================] - 0s 26ms/step - loss: 2.1954 - mae: 2.6523\n",
            "Epoch 46/100\n",
            "10/10 [==============================] - 0s 26ms/step - loss: 2.1622 - mae: 2.6190\n",
            "Epoch 47/100\n",
            "10/10 [==============================] - 0s 25ms/step - loss: 2.1313 - mae: 2.5877\n",
            "Epoch 48/100\n",
            "10/10 [==============================] - 0s 26ms/step - loss: 2.1047 - mae: 2.5607\n",
            "Epoch 49/100\n",
            "10/10 [==============================] - 0s 26ms/step - loss: 2.0740 - mae: 2.5300\n",
            "Epoch 50/100\n",
            "10/10 [==============================] - 0s 26ms/step - loss: 2.0481 - mae: 2.5040\n",
            "Epoch 51/100\n",
            "10/10 [==============================] - 0s 27ms/step - loss: 2.0263 - mae: 2.4818\n",
            "Epoch 52/100\n",
            "10/10 [==============================] - 0s 26ms/step - loss: 2.0048 - mae: 2.4598\n",
            "Epoch 53/100\n",
            "10/10 [==============================] - 0s 26ms/step - loss: 1.9897 - mae: 2.4444\n",
            "Epoch 54/100\n",
            "10/10 [==============================] - 0s 25ms/step - loss: 1.9650 - mae: 2.4193\n",
            "Epoch 55/100\n",
            "10/10 [==============================] - 0s 25ms/step - loss: 1.9469 - mae: 2.4008\n",
            "Epoch 56/100\n",
            "10/10 [==============================] - 0s 25ms/step - loss: 1.9247 - mae: 2.3784\n",
            "Epoch 57/100\n",
            "10/10 [==============================] - 0s 27ms/step - loss: 1.9090 - mae: 2.3620\n",
            "Epoch 58/100\n",
            "10/10 [==============================] - 0s 27ms/step - loss: 1.8863 - mae: 2.3394\n",
            "Epoch 59/100\n",
            "10/10 [==============================] - 0s 26ms/step - loss: 1.8594 - mae: 2.3120\n",
            "Epoch 60/100\n",
            "10/10 [==============================] - 0s 28ms/step - loss: 2.1954 - mae: 2.6553\n",
            "Epoch 61/100\n",
            "10/10 [==============================] - 0s 27ms/step - loss: 2.6837 - mae: 3.1546\n",
            "Epoch 62/100\n",
            "10/10 [==============================] - 0s 26ms/step - loss: 3.0850 - mae: 3.5608\n",
            "Epoch 63/100\n",
            "10/10 [==============================] - 0s 27ms/step - loss: 3.5170 - mae: 3.9963\n",
            "Epoch 64/100\n",
            "10/10 [==============================] - 0s 26ms/step - loss: 3.6514 - mae: 4.1324\n",
            "Epoch 65/100\n",
            "10/10 [==============================] - 0s 25ms/step - loss: 4.2092 - mae: 4.6957\n",
            "Epoch 66/100\n",
            "10/10 [==============================] - 0s 26ms/step - loss: 4.3843 - mae: 4.8706\n",
            "Epoch 67/100\n",
            "10/10 [==============================] - 0s 26ms/step - loss: 4.6300 - mae: 5.1178\n",
            "Epoch 68/100\n",
            "10/10 [==============================] - 0s 25ms/step - loss: 4.7058 - mae: 5.1920\n",
            "Epoch 69/100\n",
            "10/10 [==============================] - 0s 26ms/step - loss: 5.0180 - mae: 5.5063\n",
            "Epoch 70/100\n",
            "10/10 [==============================] - 0s 26ms/step - loss: 5.4457 - mae: 5.9367\n",
            "Epoch 71/100\n",
            "10/10 [==============================] - 0s 26ms/step - loss: 5.3925 - mae: 5.8834\n",
            "Epoch 72/100\n",
            "10/10 [==============================] - 0s 25ms/step - loss: 5.2664 - mae: 5.7564\n",
            "Epoch 73/100\n",
            "10/10 [==============================] - 0s 26ms/step - loss: 4.5294 - mae: 5.0138\n",
            "Epoch 74/100\n",
            "10/10 [==============================] - 0s 30ms/step - loss: 3.6633 - mae: 4.1388\n",
            "Epoch 75/100\n",
            "10/10 [==============================] - 0s 26ms/step - loss: 4.3836 - mae: 4.8692\n",
            "Epoch 76/100\n",
            "10/10 [==============================] - 0s 25ms/step - loss: 4.1320 - mae: 4.6170\n",
            "Epoch 77/100\n",
            "10/10 [==============================] - 0s 26ms/step - loss: 4.1512 - mae: 4.6366\n",
            "Epoch 78/100\n",
            "10/10 [==============================] - 0s 26ms/step - loss: 4.2146 - mae: 4.6999\n",
            "Epoch 79/100\n",
            "10/10 [==============================] - 0s 25ms/step - loss: 3.6912 - mae: 4.1692\n",
            "Epoch 80/100\n",
            "10/10 [==============================] - 0s 25ms/step - loss: 5.8156 - mae: 6.2997\n",
            "Epoch 81/100\n",
            "10/10 [==============================] - 0s 29ms/step - loss: 7.2667 - mae: 7.7604\n",
            "Epoch 82/100\n",
            "10/10 [==============================] - 0s 27ms/step - loss: 8.8710 - mae: 9.3672\n",
            "Epoch 83/100\n",
            "10/10 [==============================] - 0s 25ms/step - loss: 9.2924 - mae: 9.7890\n",
            "Epoch 84/100\n",
            "10/10 [==============================] - 0s 25ms/step - loss: 11.4440 - mae: 11.9433\n",
            "Epoch 85/100\n",
            "10/10 [==============================] - 0s 24ms/step - loss: 12.6177 - mae: 13.1156\n",
            "Epoch 86/100\n",
            "10/10 [==============================] - 0s 28ms/step - loss: 12.7779 - mae: 13.2729\n",
            "Epoch 87/100\n",
            "10/10 [==============================] - 0s 25ms/step - loss: 16.5921 - mae: 17.0916\n",
            "Epoch 88/100\n",
            "10/10 [==============================] - 0s 25ms/step - loss: 18.1912 - mae: 18.6901\n",
            "Epoch 89/100\n",
            "10/10 [==============================] - 0s 24ms/step - loss: 24.5679 - mae: 25.0611\n",
            "Epoch 90/100\n",
            "10/10 [==============================] - 0s 30ms/step - loss: 23.9041 - mae: 24.4038\n",
            "Epoch 91/100\n",
            "10/10 [==============================] - 0s 26ms/step - loss: 24.9405 - mae: 25.4390\n",
            "Epoch 92/100\n",
            "10/10 [==============================] - 0s 26ms/step - loss: 45.6901 - mae: 46.1863\n",
            "Epoch 93/100\n",
            "10/10 [==============================] - 0s 27ms/step - loss: 34.4746 - mae: 34.9699\n",
            "Epoch 94/100\n",
            "10/10 [==============================] - 0s 24ms/step - loss: 38.7327 - mae: 39.2311\n",
            "Epoch 95/100\n",
            "10/10 [==============================] - 0s 26ms/step - loss: 31.9220 - mae: 32.4172\n",
            "Epoch 96/100\n",
            "10/10 [==============================] - 0s 26ms/step - loss: 79.4467 - mae: 79.9427\n",
            "Epoch 97/100\n",
            "10/10 [==============================] - 0s 25ms/step - loss: 172.1074 - mae: 172.6074\n",
            "Epoch 98/100\n",
            "10/10 [==============================] - 0s 26ms/step - loss: 59.5738 - mae: 60.0718\n",
            "Epoch 99/100\n",
            "10/10 [==============================] - 0s 26ms/step - loss: 122.0125 - mae: 122.5120\n",
            "Epoch 100/100\n",
            "10/10 [==============================] - 0s 26ms/step - loss: 231.7118 - mae: 232.2119\n"
          ],
          "name": "stdout"
        }
      ]
    },
    {
      "cell_type": "code",
      "metadata": {
        "id": "vVcKmg7Q_7rD",
        "outputId": "3e30497a-34f5-4de7-831c-4be5ba55d924",
        "colab": {
          "base_uri": "https://localhost:8080/",
          "height": 291
        }
      },
      "source": [
        "plt.semilogx(history.history[\"lr\"], history.history[\"loss\"])\n",
        "plt.axis([1e-8, 1e-4, 0, 60])"
      ],
      "execution_count": 15,
      "outputs": [
        {
          "output_type": "execute_result",
          "data": {
            "text/plain": [
              "(1e-08, 0.0001, 0.0, 60.0)"
            ]
          },
          "metadata": {
            "tags": []
          },
          "execution_count": 15
        },
        {
          "output_type": "display_data",
          "data": {
            "image/png": "[encoded data removed]",
            "text/plain": [
              "<Figure size 432x288 with 1 Axes>"
            ]
          },
          "metadata": {
            "tags": [],
            "needs_background": "light"
          }
        }
      ]
    },
    {
      "cell_type": "code",
      "metadata": {
        "id": "QsksvkcXAAgq",
        "outputId": "2c7f6b67-9d59-4560-deac-20c02a9734e3",
        "colab": {
          "base_uri": "https://localhost:8080/"
        }
      },
      "source": [
        "tf.keras.backend.clear_session()\n",
        "tf.random.set_seed(51)\n",
        "np.random.seed(51)\n",
        "train_set = windowed_dataset(x_train, window_size=60, batch_size=100, shuffle_buffer=shuffle_buffer_size)\n",
        "model = tf.keras.models.Sequential([\n",
        "# YOUR CODE HERE\n",
        "  tf.keras.layers.Conv1D(filters=60, kernel_size=5,\n",
        "                      strides=1, padding=\"causal\",\n",
        "                      activation=\"relu\",\n",
        "                      input_shape=[None, 1]),\n",
        "  tf.keras.layers.LSTM(60, return_sequences=True),\n",
        "  tf.keras.layers.LSTM(60, return_sequences=True),\n",
        "  tf.keras.layers.Dense(30, activation=\"relu\"),\n",
        "  tf.keras.layers.Dense(10, activation=\"relu\"),\n",
        "  tf.keras.layers.Dense(1),\n",
        "  tf.keras.layers.Lambda(lambda x: x * 400)\n",
        "])\n",
        "\n",
        "\n",
        "optimizer = tf.keras.optimizers.SGD(lr=1e-5, momentum=0.9)\n",
        "model.compile(loss=tf.keras.losses.Huber(),\n",
        "              optimizer=optimizer,\n",
        "              metrics=[\"mae\"])\n",
        "history = model.fit(train_set,epochs= 150) # YOUR CODE HERE)\n",
        "                                    \n",
        "# EXPECTED OUTPUT SHOULD SEE AN MAE OF <2 WITHIN ABOUT 30 EPOCHS"
      ],
      "execution_count": 16,
      "outputs": [
        {
          "output_type": "stream",
          "text": [
            "Epoch 1/150\n",
            "25/25 [==============================] - 0s 15ms/step - loss: 9.9814 - mae: 10.4694\n",
            "Epoch 2/150\n",
            "25/25 [==============================] - 0s 15ms/step - loss: 2.5295 - mae: 2.9922\n",
            "Epoch 3/150\n",
            "25/25 [==============================] - 0s 15ms/step - loss: 1.9502 - mae: 2.4047\n",
            "Epoch 4/150\n",
            "25/25 [==============================] - 0s 15ms/step - loss: 1.8619 - mae: 2.3151\n",
            "Epoch 5/150\n",
            "25/25 [==============================] - 0s 14ms/step - loss: 1.8215 - mae: 2.2733\n",
            "Epoch 6/150\n",
            "25/25 [==============================] - 0s 15ms/step - loss: 1.7909 - mae: 2.2418\n",
            "Epoch 7/150\n",
            "25/25 [==============================] - 0s 14ms/step - loss: 1.7686 - mae: 2.2186\n",
            "Epoch 8/150\n",
            "25/25 [==============================] - 0s 15ms/step - loss: 1.7413 - mae: 2.1906\n",
            "Epoch 9/150\n",
            "25/25 [==============================] - 0s 15ms/step - loss: 1.7193 - mae: 2.1681\n",
            "Epoch 10/150\n",
            "25/25 [==============================] - 0s 16ms/step - loss: 1.7000 - mae: 2.1482\n",
            "Epoch 11/150\n",
            "25/25 [==============================] - 0s 15ms/step - loss: 1.6811 - mae: 2.1287\n",
            "Epoch 12/150\n",
            "25/25 [==============================] - 0s 15ms/step - loss: 1.6688 - mae: 2.1159\n",
            "Epoch 13/150\n",
            "25/25 [==============================] - 0s 15ms/step - loss: 1.6566 - mae: 2.1030\n",
            "Epoch 14/150\n",
            "25/25 [==============================] - 0s 15ms/step - loss: 1.6434 - mae: 2.0891\n",
            "Epoch 15/150\n",
            "25/25 [==============================] - 0s 15ms/step - loss: 1.6354 - mae: 2.0803\n",
            "Epoch 16/150\n",
            "25/25 [==============================] - 0s 15ms/step - loss: 1.6263 - mae: 2.0710\n",
            "Epoch 17/150\n",
            "25/25 [==============================] - 0s 14ms/step - loss: 1.6140 - mae: 2.0581\n",
            "Epoch 18/150\n",
            "25/25 [==============================] - 0s 15ms/step - loss: 1.6114 - mae: 2.0553\n",
            "Epoch 19/150\n",
            "25/25 [==============================] - 0s 15ms/step - loss: 1.6011 - mae: 2.0444\n",
            "Epoch 20/150\n",
            "25/25 [==============================] - 0s 15ms/step - loss: 1.5933 - mae: 2.0365\n",
            "Epoch 21/150\n",
            "25/25 [==============================] - 0s 15ms/step - loss: 1.5917 - mae: 2.0348\n",
            "Epoch 22/150\n",
            "25/25 [==============================] - 0s 16ms/step - loss: 1.5849 - mae: 2.0276\n",
            "Epoch 23/150\n",
            "25/25 [==============================] - 0s 15ms/step - loss: 1.5806 - mae: 2.0232\n",
            "Epoch 24/150\n",
            "25/25 [==============================] - 0s 16ms/step - loss: 1.5796 - mae: 2.0222\n",
            "Epoch 25/150\n",
            "25/25 [==============================] - 0s 15ms/step - loss: 1.5701 - mae: 2.0121\n",
            "Epoch 26/150\n",
            "25/25 [==============================] - 0s 16ms/step - loss: 1.5665 - mae: 2.0085\n",
            "Epoch 27/150\n",
            "25/25 [==============================] - 0s 16ms/step - loss: 1.5639 - mae: 2.0057\n",
            "Epoch 28/150\n",
            "25/25 [==============================] - 0s 16ms/step - loss: 1.5596 - mae: 2.0014\n",
            "Epoch 29/150\n",
            "25/25 [==============================] - 0s 16ms/step - loss: 1.5573 - mae: 1.9991\n",
            "Epoch 30/150\n",
            "25/25 [==============================] - 0s 16ms/step - loss: 1.5552 - mae: 1.9972\n",
            "Epoch 31/150\n",
            "25/25 [==============================] - 0s 16ms/step - loss: 1.5546 - mae: 1.9966\n",
            "Epoch 32/150\n",
            "25/25 [==============================] - 0s 15ms/step - loss: 1.5520 - mae: 1.9937\n",
            "Epoch 33/150\n",
            "25/25 [==============================] - 0s 15ms/step - loss: 1.5480 - mae: 1.9897\n",
            "Epoch 34/150\n",
            "25/25 [==============================] - 0s 15ms/step - loss: 1.5520 - mae: 1.9939\n",
            "Epoch 35/150\n",
            "25/25 [==============================] - 0s 16ms/step - loss: 1.5489 - mae: 1.9909\n",
            "Epoch 36/150\n",
            "25/25 [==============================] - 0s 15ms/step - loss: 1.5430 - mae: 1.9846\n",
            "Epoch 37/150\n",
            "25/25 [==============================] - 0s 16ms/step - loss: 1.5421 - mae: 1.9836\n",
            "Epoch 38/150\n",
            "25/25 [==============================] - 0s 16ms/step - loss: 1.5403 - mae: 1.9816\n",
            "Epoch 39/150\n",
            "25/25 [==============================] - 0s 16ms/step - loss: 1.5404 - mae: 1.9822\n",
            "Epoch 40/150\n",
            "25/25 [==============================] - 0s 17ms/step - loss: 1.5411 - mae: 1.9829\n",
            "Epoch 41/150\n",
            "25/25 [==============================] - 0s 15ms/step - loss: 1.5354 - mae: 1.9769\n",
            "Epoch 42/150\n",
            "25/25 [==============================] - 0s 16ms/step - loss: 1.5354 - mae: 1.9770\n",
            "Epoch 43/150\n",
            "25/25 [==============================] - 0s 16ms/step - loss: 1.5351 - mae: 1.9768\n",
            "Epoch 44/150\n",
            "25/25 [==============================] - 0s 16ms/step - loss: 1.5360 - mae: 1.9780\n",
            "Epoch 45/150\n",
            "25/25 [==============================] - 0s 16ms/step - loss: 1.5308 - mae: 1.9723\n",
            "Epoch 46/150\n",
            "25/25 [==============================] - 0s 15ms/step - loss: 1.5330 - mae: 1.9748\n",
            "Epoch 47/150\n",
            "25/25 [==============================] - 0s 15ms/step - loss: 1.5285 - mae: 1.9699\n",
            "Epoch 48/150\n",
            "25/25 [==============================] - 0s 16ms/step - loss: 1.5312 - mae: 1.9730\n",
            "Epoch 49/150\n",
            "25/25 [==============================] - 0s 15ms/step - loss: 1.5307 - mae: 1.9724\n",
            "Epoch 50/150\n",
            "25/25 [==============================] - 0s 15ms/step - loss: 1.5262 - mae: 1.9678\n",
            "Epoch 51/150\n",
            "25/25 [==============================] - 0s 15ms/step - loss: 1.5291 - mae: 1.9708\n",
            "Epoch 52/150\n",
            "25/25 [==============================] - 0s 16ms/step - loss: 1.5274 - mae: 1.9692\n",
            "Epoch 53/150\n",
            "25/25 [==============================] - 0s 15ms/step - loss: 1.5288 - mae: 1.9708\n",
            "Epoch 54/150\n",
            "25/25 [==============================] - 0s 15ms/step - loss: 1.5239 - mae: 1.9656\n",
            "Epoch 55/150\n",
            "25/25 [==============================] - 0s 15ms/step - loss: 1.5236 - mae: 1.9654\n",
            "Epoch 56/150\n",
            "25/25 [==============================] - 0s 15ms/step - loss: 1.5214 - mae: 1.9629\n",
            "Epoch 57/150\n",
            "25/25 [==============================] - 0s 15ms/step - loss: 1.5219 - mae: 1.9635\n",
            "Epoch 58/150\n",
            "25/25 [==============================] - 0s 15ms/step - loss: 1.5347 - mae: 1.9776\n",
            "Epoch 59/150\n",
            "25/25 [==============================] - 0s 15ms/step - loss: 1.5251 - mae: 1.9669\n",
            "Epoch 60/150\n",
            "25/25 [==============================] - 0s 15ms/step - loss: 1.5221 - mae: 1.9638\n",
            "Epoch 61/150\n",
            "25/25 [==============================] - 0s 15ms/step - loss: 1.5185 - mae: 1.9600\n",
            "Epoch 62/150\n",
            "25/25 [==============================] - 0s 15ms/step - loss: 1.5197 - mae: 1.9612\n",
            "Epoch 63/150\n",
            "25/25 [==============================] - 0s 15ms/step - loss: 1.5169 - mae: 1.9584\n",
            "Epoch 64/150\n",
            "25/25 [==============================] - 0s 15ms/step - loss: 1.5174 - mae: 1.9589\n",
            "Epoch 65/150\n",
            "25/25 [==============================] - 0s 15ms/step - loss: 1.5167 - mae: 1.9581\n",
            "Epoch 66/150\n",
            "25/25 [==============================] - 0s 15ms/step - loss: 1.5169 - mae: 1.9585\n",
            "Epoch 67/150\n",
            "25/25 [==============================] - 0s 15ms/step - loss: 1.5218 - mae: 1.9636\n",
            "Epoch 68/150\n",
            "25/25 [==============================] - 0s 16ms/step - loss: 1.5163 - mae: 1.9579\n",
            "Epoch 69/150\n",
            "25/25 [==============================] - 0s 15ms/step - loss: 1.5146 - mae: 1.9561\n",
            "Epoch 70/150\n",
            "25/25 [==============================] - 0s 15ms/step - loss: 1.5145 - mae: 1.9559\n",
            "Epoch 71/150\n",
            "25/25 [==============================] - 0s 15ms/step - loss: 1.5129 - mae: 1.9542\n",
            "Epoch 72/150\n",
            "25/25 [==============================] - 0s 15ms/step - loss: 1.5123 - mae: 1.9537\n",
            "Epoch 73/150\n",
            "25/25 [==============================] - 0s 15ms/step - loss: 1.5152 - mae: 1.9569\n",
            "Epoch 74/150\n",
            "25/25 [==============================] - 0s 16ms/step - loss: 1.5112 - mae: 1.9527\n",
            "Epoch 75/150\n",
            "25/25 [==============================] - 0s 16ms/step - loss: 1.5127 - mae: 1.9542\n",
            "Epoch 76/150\n",
            "25/25 [==============================] - 0s 15ms/step - loss: 1.5114 - mae: 1.9527\n",
            "Epoch 77/150\n",
            "25/25 [==============================] - 0s 15ms/step - loss: 1.5104 - mae: 1.9520\n",
            "Epoch 78/150\n",
            "25/25 [==============================] - 0s 15ms/step - loss: 1.5143 - mae: 1.9559\n",
            "Epoch 79/150\n",
            "25/25 [==============================] - 0s 15ms/step - loss: 1.5090 - mae: 1.9505\n",
            "Epoch 80/150\n",
            "25/25 [==============================] - 0s 15ms/step - loss: 1.5104 - mae: 1.9520\n",
            "Epoch 81/150\n",
            "25/25 [==============================] - 0s 15ms/step - loss: 1.5148 - mae: 1.9565\n",
            "Epoch 82/150\n",
            "25/25 [==============================] - 0s 15ms/step - loss: 1.5075 - mae: 1.9490\n",
            "Epoch 83/150\n",
            "25/25 [==============================] - 0s 15ms/step - loss: 1.5081 - mae: 1.9494\n",
            "Epoch 84/150\n",
            "25/25 [==============================] - 0s 15ms/step - loss: 1.5085 - mae: 1.9501\n",
            "Epoch 85/150\n",
            "25/25 [==============================] - 0s 15ms/step - loss: 1.5070 - mae: 1.9484\n",
            "Epoch 86/150\n",
            "25/25 [==============================] - 0s 16ms/step - loss: 1.5061 - mae: 1.9476\n",
            "Epoch 87/150\n",
            "25/25 [==============================] - 0s 15ms/step - loss: 1.5075 - mae: 1.9489\n",
            "Epoch 88/150\n",
            "25/25 [==============================] - 0s 16ms/step - loss: 1.5054 - mae: 1.9468\n",
            "Epoch 89/150\n",
            "25/25 [==============================] - 0s 15ms/step - loss: 1.5050 - mae: 1.9463\n",
            "Epoch 90/150\n",
            "25/25 [==============================] - 0s 15ms/step - loss: 1.5064 - mae: 1.9479\n",
            "Epoch 91/150\n",
            "25/25 [==============================] - 0s 15ms/step - loss: 1.5055 - mae: 1.9468\n",
            "Epoch 92/150\n",
            "25/25 [==============================] - 0s 16ms/step - loss: 1.5046 - mae: 1.9459\n",
            "Epoch 93/150\n",
            "25/25 [==============================] - 0s 15ms/step - loss: 1.5032 - mae: 1.9446\n",
            "Epoch 94/150\n",
            "25/25 [==============================] - 0s 15ms/step - loss: 1.5023 - mae: 1.9438\n",
            "Epoch 95/150\n",
            "25/25 [==============================] - 0s 15ms/step - loss: 1.5111 - mae: 1.9529\n",
            "Epoch 96/150\n",
            "25/25 [==============================] - 0s 16ms/step - loss: 1.5034 - mae: 1.9449\n",
            "Epoch 97/150\n",
            "25/25 [==============================] - 0s 15ms/step - loss: 1.5052 - mae: 1.9469\n",
            "Epoch 98/150\n",
            "25/25 [==============================] - 0s 15ms/step - loss: 1.5057 - mae: 1.9469\n",
            "Epoch 99/150\n",
            "25/25 [==============================] - 0s 17ms/step - loss: 1.5013 - mae: 1.9426\n",
            "Epoch 100/150\n",
            "25/25 [==============================] - 0s 15ms/step - loss: 1.5012 - mae: 1.9425\n",
            "Epoch 101/150\n",
            "25/25 [==============================] - 0s 16ms/step - loss: 1.5014 - mae: 1.9427\n",
            "Epoch 102/150\n",
            "25/25 [==============================] - 0s 15ms/step - loss: 1.4997 - mae: 1.9411\n",
            "Epoch 103/150\n",
            "25/25 [==============================] - 0s 15ms/step - loss: 1.5000 - mae: 1.9412\n",
            "Epoch 104/150\n",
            "25/25 [==============================] - 0s 16ms/step - loss: 1.5006 - mae: 1.9419\n",
            "Epoch 105/150\n",
            "25/25 [==============================] - 0s 15ms/step - loss: 1.4999 - mae: 1.9410\n",
            "Epoch 106/150\n",
            "25/25 [==============================] - 0s 15ms/step - loss: 1.4998 - mae: 1.9412\n",
            "Epoch 107/150\n",
            "25/25 [==============================] - 0s 15ms/step - loss: 1.5016 - mae: 1.9430\n",
            "Epoch 108/150\n",
            "25/25 [==============================] - 0s 16ms/step - loss: 1.5004 - mae: 1.9415\n",
            "Epoch 109/150\n",
            "25/25 [==============================] - 0s 16ms/step - loss: 1.5000 - mae: 1.9413\n",
            "Epoch 110/150\n",
            "25/25 [==============================] - 0s 15ms/step - loss: 1.5015 - mae: 1.9428\n",
            "Epoch 111/150\n",
            "25/25 [==============================] - 0s 15ms/step - loss: 1.4988 - mae: 1.9401\n",
            "Epoch 112/150\n",
            "25/25 [==============================] - 0s 15ms/step - loss: 1.4977 - mae: 1.9388\n",
            "Epoch 113/150\n",
            "25/25 [==============================] - 0s 15ms/step - loss: 1.4966 - mae: 1.9378\n",
            "Epoch 114/150\n",
            "25/25 [==============================] - 0s 15ms/step - loss: 1.4968 - mae: 1.9380\n",
            "Epoch 115/150\n",
            "25/25 [==============================] - 0s 15ms/step - loss: 1.4967 - mae: 1.9378\n",
            "Epoch 116/150\n",
            "25/25 [==============================] - 0s 15ms/step - loss: 1.4979 - mae: 1.9391\n",
            "Epoch 117/150\n",
            "25/25 [==============================] - 0s 15ms/step - loss: 1.4966 - mae: 1.9377\n",
            "Epoch 118/150\n",
            "25/25 [==============================] - 0s 15ms/step - loss: 1.4973 - mae: 1.9384\n",
            "Epoch 119/150\n",
            "25/25 [==============================] - 0s 15ms/step - loss: 1.4960 - mae: 1.9370\n",
            "Epoch 120/150\n",
            "25/25 [==============================] - 0s 15ms/step - loss: 1.4971 - mae: 1.9381\n",
            "Epoch 121/150\n",
            "25/25 [==============================] - 0s 15ms/step - loss: 1.5011 - mae: 1.9427\n",
            "Epoch 122/150\n",
            "25/25 [==============================] - 0s 15ms/step - loss: 1.4966 - mae: 1.9375\n",
            "Epoch 123/150\n",
            "25/25 [==============================] - 0s 15ms/step - loss: 1.5012 - mae: 1.9424\n",
            "Epoch 124/150\n",
            "25/25 [==============================] - 0s 15ms/step - loss: 1.4959 - mae: 1.9370\n",
            "Epoch 125/150\n",
            "25/25 [==============================] - 0s 15ms/step - loss: 1.4955 - mae: 1.9366\n",
            "Epoch 126/150\n",
            "25/25 [==============================] - 0s 15ms/step - loss: 1.4951 - mae: 1.9360\n",
            "Epoch 127/150\n",
            "25/25 [==============================] - 0s 15ms/step - loss: 1.4945 - mae: 1.9354\n",
            "Epoch 128/150\n",
            "25/25 [==============================] - 0s 16ms/step - loss: 1.4942 - mae: 1.9350\n",
            "Epoch 129/150\n",
            "25/25 [==============================] - 0s 15ms/step - loss: 1.4928 - mae: 1.9337\n",
            "Epoch 130/150\n",
            "25/25 [==============================] - 0s 15ms/step - loss: 1.4962 - mae: 1.9374\n",
            "Epoch 131/150\n",
            "25/25 [==============================] - 0s 15ms/step - loss: 1.4926 - mae: 1.9335\n",
            "Epoch 132/150\n",
            "25/25 [==============================] - 0s 16ms/step - loss: 1.5004 - mae: 1.9415\n",
            "Epoch 133/150\n",
            "25/25 [==============================] - 0s 15ms/step - loss: 1.4971 - mae: 1.9380\n",
            "Epoch 134/150\n",
            "25/25 [==============================] - 0s 16ms/step - loss: 1.4968 - mae: 1.9382\n",
            "Epoch 135/150\n",
            "25/25 [==============================] - 0s 15ms/step - loss: 1.4917 - mae: 1.9323\n",
            "Epoch 136/150\n",
            "25/25 [==============================] - 0s 16ms/step - loss: 1.4927 - mae: 1.9334\n",
            "Epoch 137/150\n",
            "25/25 [==============================] - 0s 16ms/step - loss: 1.4957 - mae: 1.9364\n",
            "Epoch 138/150\n",
            "25/25 [==============================] - 0s 16ms/step - loss: 1.4922 - mae: 1.9330\n",
            "Epoch 139/150\n",
            "25/25 [==============================] - 0s 16ms/step - loss: 1.4915 - mae: 1.9322\n",
            "Epoch 140/150\n",
            "25/25 [==============================] - 0s 15ms/step - loss: 1.4917 - mae: 1.9325\n",
            "Epoch 141/150\n",
            "25/25 [==============================] - 0s 16ms/step - loss: 1.4905 - mae: 1.9312\n",
            "Epoch 142/150\n",
            "25/25 [==============================] - 0s 15ms/step - loss: 1.4897 - mae: 1.9305\n",
            "Epoch 143/150\n",
            "25/25 [==============================] - 0s 15ms/step - loss: 1.4924 - mae: 1.9334\n",
            "Epoch 144/150\n",
            "25/25 [==============================] - 0s 15ms/step - loss: 1.4920 - mae: 1.9326\n",
            "Epoch 145/150\n",
            "25/25 [==============================] - 0s 15ms/step - loss: 1.4893 - mae: 1.9300\n",
            "Epoch 146/150\n",
            "25/25 [==============================] - 0s 15ms/step - loss: 1.4957 - mae: 1.9365\n",
            "Epoch 147/150\n",
            "25/25 [==============================] - 0s 15ms/step - loss: 1.4901 - mae: 1.9307\n",
            "Epoch 148/150\n",
            "25/25 [==============================] - 0s 15ms/step - loss: 1.4893 - mae: 1.9300\n",
            "Epoch 149/150\n",
            "25/25 [==============================] - 0s 15ms/step - loss: 1.4900 - mae: 1.9307\n",
            "Epoch 150/150\n",
            "25/25 [==============================] - 0s 15ms/step - loss: 1.4889 - mae: 1.9293\n"
          ],
          "name": "stdout"
        }
      ]
    },
    {
      "cell_type": "code",
      "metadata": {
        "id": "GaC6NNMRp0lb"
      },
      "source": [
        "rnn_forecast = model_forecast(model, series[..., np.newaxis], window_size)\n",
        "rnn_forecast = rnn_forecast[split_time - window_size:-1, -1, 0]"
      ],
      "execution_count": 17,
      "outputs": []
    },
    {
      "cell_type": "code",
      "metadata": {
        "id": "izy6wl2S9d-2",
        "outputId": "13cd5027-a99e-433f-8290-3c610bb801bc",
        "colab": {
          "base_uri": "https://localhost:8080/",
          "height": 389
        }
      },
      "source": [
        "plt.figure(figsize=(10, 6))\n",
        "plot_series(time_valid, x_valid)\n",
        "plot_series(time_valid, rnn_forecast)\n",
        "\n",
        "# EXPECTED OUTPUT. PLOT SHOULD SHOW PROJECTIONS FOLLOWING ORIGINAL DATA CLOSELY"
      ],
      "execution_count": 18,
      "outputs": [
        {
          "output_type": "display_data",
          "data": {
            "image/png": "[encoded data removed]",
            "text/plain": [
              "<Figure size 720x432 with 1 Axes>"
            ]
          },
          "metadata": {
            "tags": [],
            "needs_background": "light"
          }
        }
      ]
    },
    {
      "cell_type": "code",
      "metadata": {
        "id": "13XrorC5wQoE",
        "outputId": "fd783766-3af8-483a-911e-21cc33ff2b0d",
        "colab": {
          "base_uri": "https://localhost:8080/"
        }
      },
      "source": [
        "tf.keras.metrics.mean_absolute_error(x_valid, rnn_forecast).numpy()\n",
        "\n",
        "# EXPECTED OUTPUT MAE < 2 -- I GOT 1.789626"
      ],
      "execution_count": 19,
      "outputs": [
        {
          "output_type": "execute_result",
          "data": {
            "text/plain": [
              "1.7797116"
            ]
          },
          "metadata": {
            "tags": []
          },
          "execution_count": 19
        }
      ]
    },
    {
      "cell_type": "code",
      "metadata": {
        "id": "AOVzQXxCwkzP",
        "outputId": "658f0450-81e3-448e-ffce-65b08d3ea522",
        "colab": {
          "base_uri": "https://localhost:8080/"
        }
      },
      "source": [
        "print(rnn_forecast)\n",
        "# EXPECTED OUTPUT -- ARRAY OF VALUES IN THE LOW TEENS"
      ],
      "execution_count": 20,
      "outputs": [
        {
          "output_type": "stream",
          "text": [
            "[11.328372  10.703598  12.122044  ... 13.602747  13.795269  15.0074215]\n"
          ],
          "name": "stdout"
        }
      ]
    }
  ]
}
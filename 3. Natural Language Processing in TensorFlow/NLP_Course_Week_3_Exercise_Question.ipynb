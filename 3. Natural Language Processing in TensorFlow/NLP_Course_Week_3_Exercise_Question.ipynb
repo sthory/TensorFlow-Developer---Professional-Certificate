{
  "nbformat": 4,
  "nbformat_minor": 0,
  "metadata": {
    "accelerator": "GPU",
    "colab": {
      "name": "NLP Course - Week 3 Exercise Question.ipynb",
      "provenance": []
    },
    "kernelspec": {
      "display_name": "Python 3",
      "name": "python3"
    }
  },
  "cells": [
    {
      "cell_type": "code",
      "metadata": {
        "id": "zX4Kg8DUTKWO"
      },
      "source": [
        "#@title Licensed under the Apache License, Version 2.0 (the \"License\");\n",
        "# you may not use this file except in compliance with the License.\n",
        "# You may obtain a copy of the License at\n",
        "#\n",
        "# https://www.apache.org/licenses/LICENSE-2.0\n",
        "#\n",
        "# Unless required by applicable law or agreed to in writing, software\n",
        "# distributed under the License is distributed on an \"AS IS\" BASIS,\n",
        "# WITHOUT WARRANTIES OR CONDITIONS OF ANY KIND, either express or implied.\n",
        "# See the License for the specific language governing permissions and\n",
        "# limitations under the License."
      ],
      "execution_count": null,
      "outputs": []
    },
    {
      "cell_type": "code",
      "metadata": {
        "id": "hmA6EzkQJ5jt"
      },
      "source": [
        "import json\n",
        "import tensorflow as tf\n",
        "import csv\n",
        "import random\n",
        "import numpy as np\n",
        "\n",
        "from tensorflow.keras.preprocessing.text import Tokenizer\n",
        "from tensorflow.keras.preprocessing.sequence import pad_sequences\n",
        "from tensorflow.keras.utils import to_categorical\n",
        "from tensorflow.keras import regularizers\n",
        "\n",
        "\n",
        "embedding_dim = 100\n",
        "max_length = 16\n",
        "trunc_type='post'\n",
        "padding_type='post'\n",
        "oov_tok = \"<OOV>\"\n",
        "training_size= 160000 #Your dataset size here. Experiment using smaller values (i.e. 16000), but don't forget to train on at least 160000 to see the best effects\n",
        "test_portion=.1\n",
        "\n",
        "corpus = []\n"
      ],
      "execution_count": 54,
      "outputs": []
    },
    {
      "cell_type": "code",
      "metadata": {
        "id": "bM0l_dORKqE0",
        "outputId": "7cf3503a-9486-468f-b126-e6a6265ba702",
        "colab": {
          "base_uri": "https://localhost:8080/"
        }
      },
      "source": [
        "# Note that I cleaned the Stanford dataset to remove LATIN1 encoding to make it easier for Python CSV reader\n",
        "# You can do that yourself with:\n",
        "# iconv -f LATIN1 -t UTF8 training.1600000.processed.noemoticon.csv -o training_cleaned.csv\n",
        "# I then hosted it on my site to make it easier to use in this notebook\n",
        "\n",
        "!wget --no-check-certificate \\\n",
        "    https://storage.googleapis.com/laurencemoroney-blog.appspot.com/training_cleaned.csv \\\n",
        "    -O /tmp/training_cleaned.csv\n",
        "\n",
        "num_sentences = 0\n",
        "\n",
        "with open(\"/tmp/training_cleaned.csv\") as csvfile:\n",
        "    reader = csv.reader(csvfile, delimiter=',')\n",
        "    for row in reader:\n",
        "        # Your Code here. Create list items where the first item is the text, \n",
        "        # found in row[5], and the second is the label. \n",
        "        # Note that the label is a '0' or a '4' in the text. When it's the former, \n",
        "        # make your label to be 0, otherwise 1. \n",
        "        # Keep a count of the number of sentences in num_sentences\n",
        "       \n",
        "        list_item=[]\n",
        "        list_item.append(row[5])\n",
        "        this_label = row[0]\n",
        "        if this_label == '0':\n",
        "          list_item.append(0)\n",
        "        else:\n",
        "          list_item.append(1)\n",
        "        \n",
        "        # YOUR CODE HERE\n",
        "        num_sentences = num_sentences + 1\n",
        "        corpus.append(list_item)\n"
      ],
      "execution_count": 55,
      "outputs": [
        {
          "output_type": "stream",
          "text": [
            "--2020-11-01 00:44:17--  https://storage.googleapis.com/laurencemoroney-blog.appspot.com/training_cleaned.csv\n",
            "Resolving storage.googleapis.com (storage.googleapis.com)... 172.217.7.240, 172.217.8.16, 172.217.13.80, ...\n",
            "Connecting to storage.googleapis.com (storage.googleapis.com)|172.217.7.240|:443... connected.\n",
            "HTTP request sent, awaiting response... 200 OK\n",
            "Length: 238942690 (228M) [application/octet-stream]\n",
            "Saving to: ‘/tmp/training_cleaned.csv’\n",
            "\n",
            "/tmp/training_clean 100%[===================>] 227.87M   137MB/s    in 1.7s    \n",
            "\n",
            "2020-11-01 00:44:18 (137 MB/s) - ‘/tmp/training_cleaned.csv’ saved [238942690/238942690]\n",
            "\n"
          ],
          "name": "stdout"
        }
      ]
    },
    {
      "cell_type": "code",
      "metadata": {
        "id": "3kxblBUjEUX-",
        "outputId": "64c1d890-18cc-46e4-f245-6361f1730572",
        "colab": {
          "base_uri": "https://localhost:8080/"
        }
      },
      "source": [
        "print(num_sentences)\n",
        "print(len(corpus))\n",
        "print(corpus[1])\n",
        "\n",
        "# Expected Output:\n",
        "# 1600000\n",
        "# 1600000\n",
        "# [\"is upset that he can't update his Facebook by texting it... and might cry as a result  School today also. Blah!\", 0]"
      ],
      "execution_count": 56,
      "outputs": [
        {
          "output_type": "stream",
          "text": [
            "1600000\n",
            "1600000\n",
            "[\"is upset that he can't update his Facebook by texting it... and might cry as a result  School today also. Blah!\", 0]\n"
          ],
          "name": "stdout"
        }
      ]
    },
    {
      "cell_type": "code",
      "metadata": {
        "id": "ohOGz24lsNAD"
      },
      "source": [
        "sentences=[]\n",
        "labels=[]\n",
        "random.shuffle(corpus)\n",
        "for x in range(training_size):\n",
        "    sentences.append(corpus[x][0]) # YOUR CODE HERE\n",
        "    labels.append(corpus[x][1]) # YOUR CODE HERE\n",
        "\n",
        "tokenizer = Tokenizer()\n",
        "tokenizer.fit_on_texts(sentences) # YOUR CODE HERE\n",
        "\n",
        "word_index = tokenizer.word_index\n",
        "vocab_size=len(word_index) # YOUR CODE HERE\n",
        "\n",
        "sequences = tokenizer.texts_to_sequences(sentences) # YOUR CODE HERE\n",
        "padded = pad_sequences(sequences,\n",
        "                       maxlen = max_length,\n",
        "                       padding = padding_type,\n",
        "                       truncating = trunc_type) # YOUR CODE HERE\n",
        "                       \n",
        "split = int(test_portion * training_size)\n",
        "\n",
        "test_sequences = padded[0:split] # YOUR CODE HERE\n",
        "training_sequences = padded[split:training_size] # YOUR CODE HERE\n",
        "test_labels = labels[0:split:] # YOUR CODE HERE\n",
        "training_labels = labels[split:training_size] # YOUR CODE HERE"
      ],
      "execution_count": 57,
      "outputs": []
    },
    {
      "cell_type": "code",
      "metadata": {
        "id": "gIrtRem1En3N",
        "outputId": "4c28c64b-700c-46c6-853a-0a7e25845724",
        "colab": {
          "base_uri": "https://localhost:8080/"
        }
      },
      "source": [
        "print(vocab_size)\n",
        "print(word_index['i'])\n",
        "# Expected Output\n",
        "# 138858\n",
        "# 1"
      ],
      "execution_count": 58,
      "outputs": [
        {
          "output_type": "stream",
          "text": [
            "138940\n",
            "1\n"
          ],
          "name": "stdout"
        }
      ]
    },
    {
      "cell_type": "code",
      "metadata": {
        "id": "C1zdgJkusRh0",
        "outputId": "ae5c6843-0051-416e-bcee-3d2ba99568a0",
        "colab": {
          "base_uri": "https://localhost:8080/"
        }
      },
      "source": [
        "# Note this is the 100 dimension version of GloVe from Stanford\n",
        "# I unzipped and hosted it on my site to make this notebook easier\n",
        "!wget --no-check-certificate \\\n",
        "    https://storage.googleapis.com/laurencemoroney-blog.appspot.com/glove.6B.100d.txt \\\n",
        "    -O /tmp/glove.6B.100d.txt\n",
        "embeddings_index = {};\n",
        "with open('/tmp/glove.6B.100d.txt') as f:\n",
        "    for line in f:\n",
        "        values = line.split();\n",
        "        word = values[0];\n",
        "        coefs = np.asarray(values[1:], dtype='float32');\n",
        "        embeddings_index[word] = coefs;\n",
        "\n",
        "embeddings_matrix = np.zeros((vocab_size+1, embedding_dim));\n",
        "for word, i in word_index.items():\n",
        "    embedding_vector = embeddings_index.get(word);\n",
        "    if embedding_vector is not None:\n",
        "        embeddings_matrix[i] = embedding_vector;"
      ],
      "execution_count": 59,
      "outputs": [
        {
          "output_type": "stream",
          "text": [
            "--2020-11-01 00:44:38--  https://storage.googleapis.com/laurencemoroney-blog.appspot.com/glove.6B.100d.txt\n",
            "Resolving storage.googleapis.com (storage.googleapis.com)... 172.217.7.144, 172.217.7.208, 172.217.7.240, ...\n",
            "Connecting to storage.googleapis.com (storage.googleapis.com)|172.217.7.144|:443... connected.\n",
            "HTTP request sent, awaiting response... 200 OK\n",
            "Length: 347116733 (331M) [text/plain]\n",
            "Saving to: ‘/tmp/glove.6B.100d.txt’\n",
            "\n",
            "/tmp/glove.6B.100d. 100%[===================>] 331.04M   215MB/s    in 1.5s    \n",
            "\n",
            "2020-11-01 00:44:39 (215 MB/s) - ‘/tmp/glove.6B.100d.txt’ saved [347116733/347116733]\n",
            "\n"
          ],
          "name": "stdout"
        }
      ]
    },
    {
      "cell_type": "code",
      "metadata": {
        "id": "71NLk_lpFLNt",
        "outputId": "11f31828-3446-4523-c1f8-0a8b5fdb78a9",
        "colab": {
          "base_uri": "https://localhost:8080/"
        }
      },
      "source": [
        "print(len(embeddings_matrix))\n",
        "# Expected Output\n",
        "# 138859"
      ],
      "execution_count": 60,
      "outputs": [
        {
          "output_type": "stream",
          "text": [
            "138941\n"
          ],
          "name": "stdout"
        }
      ]
    },
    {
      "cell_type": "code",
      "metadata": {
        "id": "iKKvbuEBOGFz",
        "outputId": "4e47b84b-738d-4bdd-b273-f10e24ff599e",
        "colab": {
          "base_uri": "https://localhost:8080/"
        }
      },
      "source": [
        "model = tf.keras.Sequential([\n",
        "    tf.keras.layers.Embedding(vocab_size+1, embedding_dim, \n",
        "                              input_length=max_length, \n",
        "                              weights=[embeddings_matrix], trainable=False),\n",
        "    # YOUR CODE HERE - experiment with combining different types, such as convolutions and LSTMs\n",
        "    tf.keras.layers.Dropout(0.2),\n",
        "    tf.keras.layers.Conv1D(64, 5, activation='relu'),\n",
        "    tf.keras.layers.MaxPooling1D(pool_size=4),\n",
        "    tf.keras.layers.LSTM(64),\n",
        "    tf.keras.layers.Dense(1, activation='sigmoid')\n",
        "])\n",
        "# YOUR CODE HERE)\n",
        "model.compile(loss='binary_crossentropy', optimizer='adam', metrics=['accuracy'])\n",
        "    \n",
        "model.summary()\n",
        "\n",
        "training_padded = np.array(training_sequences)\n",
        "training_labels = np.array(training_labels)\n",
        "testing_padded = np.array(test_sequences)\n",
        "testing_labels = np.array(test_labels)\n",
        "\n",
        "num_epochs = 50\n",
        "\n",
        "history = model.fit(training_padded, training_labels, \n",
        "                    epochs=num_epochs, \n",
        "                    validation_data=(testing_padded, testing_labels), \n",
        "                    verbose=2)\n",
        "\n",
        "print(\"Training Complete\")\n"
      ],
      "execution_count": 61,
      "outputs": [
        {
          "output_type": "stream",
          "text": [
            "Model: \"sequential_9\"\n",
            "_________________________________________________________________\n",
            "Layer (type)                 Output Shape              Param #   \n",
            "=================================================================\n",
            "embedding_9 (Embedding)      (None, 16, 100)           13894100  \n",
            "_________________________________________________________________\n",
            "dropout_3 (Dropout)          (None, 16, 100)           0         \n",
            "_________________________________________________________________\n",
            "conv1d_3 (Conv1D)            (None, 12, 64)            32064     \n",
            "_________________________________________________________________\n",
            "max_pooling1d_3 (MaxPooling1 (None, 3, 64)             0         \n",
            "_________________________________________________________________\n",
            "lstm_15 (LSTM)               (None, 64)                33024     \n",
            "_________________________________________________________________\n",
            "dense_15 (Dense)             (None, 1)                 65        \n",
            "=================================================================\n",
            "Total params: 13,959,253\n",
            "Trainable params: 65,153\n",
            "Non-trainable params: 13,894,100\n",
            "_________________________________________________________________\n",
            "Epoch 1/50\n",
            "4500/4500 - 15s - loss: 0.5673 - accuracy: 0.6996 - val_loss: 0.5275 - val_accuracy: 0.7318\n",
            "Epoch 2/50\n",
            "4500/4500 - 14s - loss: 0.5280 - accuracy: 0.7320 - val_loss: 0.5159 - val_accuracy: 0.7408\n",
            "Epoch 3/50\n",
            "4500/4500 - 14s - loss: 0.5125 - accuracy: 0.7424 - val_loss: 0.5070 - val_accuracy: 0.7530\n",
            "Epoch 4/50\n",
            "4500/4500 - 14s - loss: 0.5008 - accuracy: 0.7510 - val_loss: 0.5027 - val_accuracy: 0.7498\n",
            "Epoch 5/50\n",
            "4500/4500 - 14s - loss: 0.4923 - accuracy: 0.7566 - val_loss: 0.5021 - val_accuracy: 0.7520\n",
            "Epoch 6/50\n",
            "4500/4500 - 15s - loss: 0.4853 - accuracy: 0.7614 - val_loss: 0.5055 - val_accuracy: 0.7564\n",
            "Epoch 7/50\n",
            "4500/4500 - 15s - loss: 0.4789 - accuracy: 0.7647 - val_loss: 0.5019 - val_accuracy: 0.7546\n",
            "Epoch 8/50\n",
            "4500/4500 - 14s - loss: 0.4734 - accuracy: 0.7702 - val_loss: 0.5067 - val_accuracy: 0.7563\n",
            "Epoch 9/50\n",
            "4500/4500 - 14s - loss: 0.4696 - accuracy: 0.7707 - val_loss: 0.5029 - val_accuracy: 0.7539\n",
            "Epoch 10/50\n",
            "4500/4500 - 14s - loss: 0.4660 - accuracy: 0.7737 - val_loss: 0.5033 - val_accuracy: 0.7522\n",
            "Epoch 11/50\n",
            "4500/4500 - 15s - loss: 0.4630 - accuracy: 0.7756 - val_loss: 0.5012 - val_accuracy: 0.7542\n",
            "Epoch 12/50\n",
            "4500/4500 - 15s - loss: 0.4602 - accuracy: 0.7776 - val_loss: 0.5245 - val_accuracy: 0.7442\n",
            "Epoch 13/50\n",
            "4500/4500 - 15s - loss: 0.4578 - accuracy: 0.7787 - val_loss: 0.5048 - val_accuracy: 0.7524\n",
            "Epoch 14/50\n",
            "4500/4500 - 15s - loss: 0.4546 - accuracy: 0.7815 - val_loss: 0.5048 - val_accuracy: 0.7539\n",
            "Epoch 15/50\n",
            "4500/4500 - 15s - loss: 0.4523 - accuracy: 0.7813 - val_loss: 0.5040 - val_accuracy: 0.7522\n",
            "Epoch 16/50\n",
            "4500/4500 - 15s - loss: 0.4501 - accuracy: 0.7825 - val_loss: 0.5100 - val_accuracy: 0.7519\n",
            "Epoch 17/50\n",
            "4500/4500 - 16s - loss: 0.4483 - accuracy: 0.7841 - val_loss: 0.5087 - val_accuracy: 0.7529\n",
            "Epoch 18/50\n",
            "4500/4500 - 15s - loss: 0.4475 - accuracy: 0.7843 - val_loss: 0.5154 - val_accuracy: 0.7518\n",
            "Epoch 19/50\n",
            "4500/4500 - 15s - loss: 0.4443 - accuracy: 0.7871 - val_loss: 0.5116 - val_accuracy: 0.7568\n",
            "Epoch 20/50\n",
            "4500/4500 - 15s - loss: 0.4441 - accuracy: 0.7868 - val_loss: 0.5130 - val_accuracy: 0.7486\n",
            "Epoch 21/50\n",
            "4500/4500 - 15s - loss: 0.4426 - accuracy: 0.7881 - val_loss: 0.5076 - val_accuracy: 0.7504\n",
            "Epoch 22/50\n",
            "4500/4500 - 15s - loss: 0.4433 - accuracy: 0.7871 - val_loss: 0.5119 - val_accuracy: 0.7504\n",
            "Epoch 23/50\n",
            "4500/4500 - 15s - loss: 0.4396 - accuracy: 0.7895 - val_loss: 0.5147 - val_accuracy: 0.7509\n",
            "Epoch 24/50\n",
            "4500/4500 - 15s - loss: 0.4394 - accuracy: 0.7902 - val_loss: 0.5140 - val_accuracy: 0.7511\n",
            "Epoch 25/50\n",
            "4500/4500 - 15s - loss: 0.4391 - accuracy: 0.7908 - val_loss: 0.5188 - val_accuracy: 0.7516\n",
            "Epoch 26/50\n",
            "4500/4500 - 15s - loss: 0.4374 - accuracy: 0.7916 - val_loss: 0.5120 - val_accuracy: 0.7518\n",
            "Epoch 27/50\n",
            "4500/4500 - 15s - loss: 0.4366 - accuracy: 0.7914 - val_loss: 0.5151 - val_accuracy: 0.7511\n",
            "Epoch 28/50\n",
            "4500/4500 - 15s - loss: 0.4345 - accuracy: 0.7924 - val_loss: 0.5168 - val_accuracy: 0.7539\n",
            "Epoch 29/50\n",
            "4500/4500 - 15s - loss: 0.4370 - accuracy: 0.7911 - val_loss: 0.5149 - val_accuracy: 0.7486\n",
            "Epoch 30/50\n",
            "4500/4500 - 15s - loss: 0.4359 - accuracy: 0.7925 - val_loss: 0.5208 - val_accuracy: 0.7536\n",
            "Epoch 31/50\n",
            "4500/4500 - 15s - loss: 0.4357 - accuracy: 0.7925 - val_loss: 0.5124 - val_accuracy: 0.7527\n",
            "Epoch 32/50\n",
            "4500/4500 - 14s - loss: 0.4347 - accuracy: 0.7932 - val_loss: 0.5160 - val_accuracy: 0.7528\n",
            "Epoch 33/50\n",
            "4500/4500 - 15s - loss: 0.4340 - accuracy: 0.7935 - val_loss: 0.5162 - val_accuracy: 0.7531\n",
            "Epoch 34/50\n",
            "4500/4500 - 15s - loss: 0.4337 - accuracy: 0.7937 - val_loss: 0.5157 - val_accuracy: 0.7544\n",
            "Epoch 35/50\n",
            "4500/4500 - 15s - loss: 0.4331 - accuracy: 0.7936 - val_loss: 0.5187 - val_accuracy: 0.7508\n",
            "Epoch 36/50\n",
            "4500/4500 - 15s - loss: 0.4339 - accuracy: 0.7927 - val_loss: 0.5132 - val_accuracy: 0.7511\n",
            "Epoch 37/50\n",
            "4500/4500 - 14s - loss: 0.4325 - accuracy: 0.7928 - val_loss: 0.5197 - val_accuracy: 0.7486\n",
            "Epoch 38/50\n",
            "4500/4500 - 15s - loss: 0.4324 - accuracy: 0.7943 - val_loss: 0.5222 - val_accuracy: 0.7493\n",
            "Epoch 39/50\n",
            "4500/4500 - 15s - loss: 0.4322 - accuracy: 0.7953 - val_loss: 0.5201 - val_accuracy: 0.7490\n",
            "Epoch 40/50\n",
            "4500/4500 - 15s - loss: 0.4311 - accuracy: 0.7956 - val_loss: 0.5225 - val_accuracy: 0.7477\n",
            "Epoch 41/50\n",
            "4500/4500 - 15s - loss: 0.4310 - accuracy: 0.7946 - val_loss: 0.5211 - val_accuracy: 0.7482\n",
            "Epoch 42/50\n",
            "4500/4500 - 15s - loss: 0.4300 - accuracy: 0.7959 - val_loss: 0.5226 - val_accuracy: 0.7490\n",
            "Epoch 43/50\n",
            "4500/4500 - 15s - loss: 0.4323 - accuracy: 0.7949 - val_loss: 0.5200 - val_accuracy: 0.7474\n",
            "Epoch 44/50\n",
            "4500/4500 - 15s - loss: 0.4305 - accuracy: 0.7948 - val_loss: 0.5183 - val_accuracy: 0.7526\n",
            "Epoch 45/50\n",
            "4500/4500 - 15s - loss: 0.4289 - accuracy: 0.7960 - val_loss: 0.5192 - val_accuracy: 0.7516\n",
            "Epoch 46/50\n",
            "4500/4500 - 15s - loss: 0.4294 - accuracy: 0.7959 - val_loss: 0.5257 - val_accuracy: 0.7508\n",
            "Epoch 47/50\n",
            "4500/4500 - 15s - loss: 0.4300 - accuracy: 0.7957 - val_loss: 0.5201 - val_accuracy: 0.7475\n",
            "Epoch 48/50\n",
            "4500/4500 - 15s - loss: 0.4301 - accuracy: 0.7956 - val_loss: 0.5158 - val_accuracy: 0.7494\n",
            "Epoch 49/50\n",
            "4500/4500 - 15s - loss: 0.4289 - accuracy: 0.7958 - val_loss: 0.5218 - val_accuracy: 0.7484\n",
            "Epoch 50/50\n",
            "4500/4500 - 15s - loss: 0.4287 - accuracy: 0.7961 - val_loss: 0.5247 - val_accuracy: 0.7469\n",
            "Training Complete\n"
          ],
          "name": "stdout"
        }
      ]
    },
    {
      "cell_type": "code",
      "metadata": {
        "id": "qxju4ItJKO8F",
        "outputId": "1d24a817-8f1b-44ff-dda9-8908fc58c546",
        "colab": {
          "base_uri": "https://localhost:8080/",
          "height": 608
        }
      },
      "source": [
        "import matplotlib.image  as mpimg\n",
        "import matplotlib.pyplot as plt\n",
        "\n",
        "#-----------------------------------------------------------\n",
        "# Retrieve a list of list results on training and test data\n",
        "# sets for each training epoch\n",
        "#-----------------------------------------------------------\n",
        "acc=history.history['accuracy']\n",
        "val_acc=history.history['val_accuracy']\n",
        "loss=history.history['loss']\n",
        "val_loss=history.history['val_loss']\n",
        "\n",
        "epochs=range(len(acc)) # Get number of epochs\n",
        "\n",
        "#------------------------------------------------\n",
        "# Plot training and validation accuracy per epoch\n",
        "#------------------------------------------------\n",
        "plt.plot(epochs, acc, 'r')\n",
        "plt.plot(epochs, val_acc, 'b')\n",
        "plt.title('Training and validation accuracy')\n",
        "plt.xlabel(\"Epochs\")\n",
        "plt.ylabel(\"Accuracy\")\n",
        "plt.legend([\"Accuracy\", \"Validation Accuracy\"])\n",
        "\n",
        "plt.figure()\n",
        "\n",
        "#------------------------------------------------\n",
        "# Plot training and validation loss per epoch\n",
        "#------------------------------------------------\n",
        "plt.plot(epochs, loss, 'r')\n",
        "plt.plot(epochs, val_loss, 'b')\n",
        "plt.title('Training and validation loss')\n",
        "plt.xlabel(\"Epochs\")\n",
        "plt.ylabel(\"Loss\")\n",
        "plt.legend([\"Loss\", \"Validation Loss\"])\n",
        "\n",
        "plt.figure()\n",
        "\n",
        "\n",
        "# Expected Output\n",
        "# A chart where the validation loss does not increase sharply!"
      ],
      "execution_count": 62,
      "outputs": [
        {
          "output_type": "execute_result",
          "data": {
            "text/plain": [
              "<Figure size 432x288 with 0 Axes>"
            ]
          },
          "metadata": {
            "tags": []
          },
          "execution_count": 62
        },
        {
          "output_type": "display_data",
          "data": {
            "image/png": "[encoded data removed]",
            "text/plain": [
              "<Figure size 432x288 with 1 Axes>"
            ]
          },
          "metadata": {
            "tags": [],
            "needs_background": "light"
          }
        },
        {
          "output_type": "display_data",
          "data": {
            "image/png": "[encoded data removed]",
            "text/plain": [
              "<Figure size 432x288 with 1 Axes>"
            ]
          },
          "metadata": {
            "tags": [],
            "needs_background": "light"
          }
        },
        {
          "output_type": "display_data",
          "data": {
            "text/plain": [
              "<Figure size 432x288 with 0 Axes>"
            ]
          },
          "metadata": {
            "tags": []
          }
        }
      ]
    },
    {
      "cell_type": "code",
      "metadata": {
        "id": "wqbf_PEgUUsL"
      },
      "source": [
        ""
      ],
      "execution_count": null,
      "outputs": []
    }
  ]
}